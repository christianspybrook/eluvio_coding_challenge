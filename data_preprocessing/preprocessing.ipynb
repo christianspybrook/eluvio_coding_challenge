{
 "cells": [
  {
   "cell_type": "markdown",
   "id": "a686521b",
   "metadata": {},
   "source": [
    "This notebook will handle the initial reading in of the dataset.  \n",
    "Data types will be assesed to the minimize memory footprint of the dataset.  \n",
    "The some values will be selected to ascertain the origin of this data through a Google search.  \n",
    "The results will reveal the proper business domain to guide best use case for this analysis.  \n",
    "This will result in the formulation of business questions to be addressed.  \n",
    "Summary statistical plots will be made to observe trends in user activity.  \n",
    "The data will be wrangled to engineer the necessary features to solve the business problem stated.  \n",
    "The final dataset will be exported to be used for machine learning in other notebooks."
   ]
  },
  {
   "cell_type": "code",
   "execution_count": 1,
   "id": "55011303",
   "metadata": {},
   "outputs": [
    {
     "data": {
      "text/html": [
       "<style>.container { width: 930px !important; }</style>"
      ],
      "text/plain": [
       "<IPython.core.display.HTML object>"
      ]
     },
     "metadata": {},
     "output_type": "display_data"
    }
   ],
   "source": [
    "# set cell display width\n",
    "from IPython.display import display, HTML\n",
    "display(HTML('<style>.container { width: 930px !important; }</style>'))"
   ]
  },
  {
   "cell_type": "code",
   "execution_count": 2,
   "id": "e07abba0",
   "metadata": {},
   "outputs": [],
   "source": [
    "# import ML tools\n",
    "import numpy as np\n",
    "import pandas as pd"
   ]
  },
  {
   "cell_type": "code",
   "execution_count": 3,
   "id": "eae6dc1a",
   "metadata": {},
   "outputs": [],
   "source": [
    "# import plotting tools\n",
    "import matplotlib.pyplot as plt\n",
    "import seaborn as sns\n",
    "from IPython.core.pylabtools import figsize\n",
    "from matplotlib.lines import Line2D\n",
    "# set grid size and style\n",
    "figsize(12, 4)\n",
    "sns.set_style('whitegrid')"
   ]
  },
  {
   "cell_type": "code",
   "execution_count": 4,
   "id": "b482959d",
   "metadata": {},
   "outputs": [
    {
     "name": "stdout",
     "output_type": "stream",
     "text": [
      "Use \"my_palette.colors(<index>)\" as color attribute for Seaborn plots.\n",
      "This is your color palette...\n"
     ]
    },
    {
     "data": {
      "image/png": "[encoded data removed]",
      "text/plain": [
       "<Figure size 504x72 with 1 Axes>"
      ]
     },
     "metadata": {},
     "output_type": "display_data"
    }
   ],
   "source": [
    "# import custom palette\n",
    "import my_palette as mp"
   ]
  },
  {
   "cell_type": "code",
   "execution_count": 5,
   "id": "f4bed067",
   "metadata": {},
   "outputs": [],
   "source": [
    "# free autocomplete from Jedi mind control\n",
    "%config Completer.use_jedi = False"
   ]
  },
  {
   "cell_type": "code",
   "execution_count": 6,
   "id": "ead78c7b",
   "metadata": {},
   "outputs": [
    {
     "name": "stdout",
     "output_type": "stream",
     "text": [
      "<class 'pandas.core.frame.DataFrame'>\n",
      "RangeIndex: 509236 entries, 0 to 509235\n",
      "Data columns (total 8 columns):\n",
      " #   Column        Non-Null Count   Dtype \n",
      "---  ------        --------------   ----- \n",
      " 0   time_created  509236 non-null  int64 \n",
      " 1   date_created  509236 non-null  object\n",
      " 2   up_votes      509236 non-null  int64 \n",
      " 3   down_votes    509236 non-null  int64 \n",
      " 4   title         509236 non-null  object\n",
      " 5   over_18       509236 non-null  bool  \n",
      " 6   author        509236 non-null  object\n",
      " 7   category      509236 non-null  object\n",
      "dtypes: bool(1), int64(3), object(4)\n",
      "memory usage: 27.7+ MB\n"
     ]
    }
   ],
   "source": [
    "# read in dataset and observe basic infomation\n",
    "df = pd.read_csv('../data/eluvio_ds_challenge.csv')\n",
    "df.info()"
   ]
  },
  {
   "cell_type": "code",
   "execution_count": null,
   "id": "f1d19bff",
   "metadata": {},
   "outputs": [],
   "source": []
  },
  {
   "cell_type": "markdown",
   "id": "4b026c49",
   "metadata": {},
   "source": [
    "> **FIND BUSINESS DOMAIN**"
   ]
  },
  {
   "cell_type": "markdown",
   "id": "1e42e36a",
   "metadata": {},
   "source": [
    "I'll observe some of the article authors and titles to begin a search for the origin of the data."
   ]
  },
  {
   "cell_type": "code",
   "execution_count": 7,
   "id": "73591e0d",
   "metadata": {},
   "outputs": [
    {
     "data": {
      "text/html": [
       "<div>\n",
       "<style scoped>\n",
       "    .dataframe tbody tr th:only-of-type {\n",
       "        vertical-align: middle;\n",
       "    }\n",
       "\n",
       "    .dataframe tbody tr th {\n",
       "        vertical-align: top;\n",
       "    }\n",
       "\n",
       "    .dataframe thead th {\n",
       "        text-align: right;\n",
       "    }\n",
       "</style>\n",
       "<table border=\"1\" class=\"dataframe\">\n",
       "  <thead>\n",
       "    <tr style=\"text-align: right;\">\n",
       "      <th></th>\n",
       "      <th>time_created</th>\n",
       "      <th>date_created</th>\n",
       "      <th>up_votes</th>\n",
       "      <th>down_votes</th>\n",
       "      <th>title</th>\n",
       "      <th>over_18</th>\n",
       "      <th>author</th>\n",
       "      <th>category</th>\n",
       "    </tr>\n",
       "  </thead>\n",
       "  <tbody>\n",
       "    <tr>\n",
       "      <th>0</th>\n",
       "      <td>1201232046</td>\n",
       "      <td>2008-01-25</td>\n",
       "      <td>3</td>\n",
       "      <td>0</td>\n",
       "      <td>Scores killed in Pakistan clashes</td>\n",
       "      <td>False</td>\n",
       "      <td>polar</td>\n",
       "      <td>worldnews</td>\n",
       "    </tr>\n",
       "    <tr>\n",
       "      <th>1</th>\n",
       "      <td>1201232075</td>\n",
       "      <td>2008-01-25</td>\n",
       "      <td>2</td>\n",
       "      <td>0</td>\n",
       "      <td>Japan resumes refuelling mission</td>\n",
       "      <td>False</td>\n",
       "      <td>polar</td>\n",
       "      <td>worldnews</td>\n",
       "    </tr>\n",
       "    <tr>\n",
       "      <th>2</th>\n",
       "      <td>1201232523</td>\n",
       "      <td>2008-01-25</td>\n",
       "      <td>3</td>\n",
       "      <td>0</td>\n",
       "      <td>US presses Egypt on Gaza border</td>\n",
       "      <td>False</td>\n",
       "      <td>polar</td>\n",
       "      <td>worldnews</td>\n",
       "    </tr>\n",
       "    <tr>\n",
       "      <th>3</th>\n",
       "      <td>1201233290</td>\n",
       "      <td>2008-01-25</td>\n",
       "      <td>1</td>\n",
       "      <td>0</td>\n",
       "      <td>Jump-start economy: Give health care to all</td>\n",
       "      <td>False</td>\n",
       "      <td>fadi420</td>\n",
       "      <td>worldnews</td>\n",
       "    </tr>\n",
       "    <tr>\n",
       "      <th>4</th>\n",
       "      <td>1201274720</td>\n",
       "      <td>2008-01-25</td>\n",
       "      <td>4</td>\n",
       "      <td>0</td>\n",
       "      <td>Council of Europe bashes EU&amp;UN terror blacklist</td>\n",
       "      <td>False</td>\n",
       "      <td>mhermans</td>\n",
       "      <td>worldnews</td>\n",
       "    </tr>\n",
       "    <tr>\n",
       "      <th>5</th>\n",
       "      <td>1201287889</td>\n",
       "      <td>2008-01-25</td>\n",
       "      <td>15</td>\n",
       "      <td>0</td>\n",
       "      <td>Hay presto! Farmer unveils the  illegal  mock-...</td>\n",
       "      <td>False</td>\n",
       "      <td>Armagedonovich</td>\n",
       "      <td>worldnews</td>\n",
       "    </tr>\n",
       "    <tr>\n",
       "      <th>6</th>\n",
       "      <td>1201289438</td>\n",
       "      <td>2008-01-25</td>\n",
       "      <td>5</td>\n",
       "      <td>0</td>\n",
       "      <td>Strikes, Protests and Gridlock at the Poland-U...</td>\n",
       "      <td>False</td>\n",
       "      <td>Clythos</td>\n",
       "      <td>worldnews</td>\n",
       "    </tr>\n",
       "    <tr>\n",
       "      <th>7</th>\n",
       "      <td>1201536662</td>\n",
       "      <td>2008-01-28</td>\n",
       "      <td>0</td>\n",
       "      <td>0</td>\n",
       "      <td>The U.N. Mismanagement Program</td>\n",
       "      <td>False</td>\n",
       "      <td>Moldavite</td>\n",
       "      <td>worldnews</td>\n",
       "    </tr>\n",
       "    <tr>\n",
       "      <th>8</th>\n",
       "      <td>1201558396</td>\n",
       "      <td>2008-01-28</td>\n",
       "      <td>4</td>\n",
       "      <td>0</td>\n",
       "      <td>Nicolas Sarkozy threatens to sue Ryanair</td>\n",
       "      <td>False</td>\n",
       "      <td>Moldavite</td>\n",
       "      <td>worldnews</td>\n",
       "    </tr>\n",
       "    <tr>\n",
       "      <th>9</th>\n",
       "      <td>1201635869</td>\n",
       "      <td>2008-01-29</td>\n",
       "      <td>3</td>\n",
       "      <td>0</td>\n",
       "      <td>US plans for missile shields in Polish town me...</td>\n",
       "      <td>False</td>\n",
       "      <td>JoeyRamone63</td>\n",
       "      <td>worldnews</td>\n",
       "    </tr>\n",
       "    <tr>\n",
       "      <th>10</th>\n",
       "      <td>1201701773</td>\n",
       "      <td>2008-01-30</td>\n",
       "      <td>4</td>\n",
       "      <td>0</td>\n",
       "      <td>Archbishop of Canterbury calls for new law to ...</td>\n",
       "      <td>False</td>\n",
       "      <td>bgholt1970</td>\n",
       "      <td>worldnews</td>\n",
       "    </tr>\n",
       "    <tr>\n",
       "      <th>11</th>\n",
       "      <td>1201719875</td>\n",
       "      <td>2008-01-30</td>\n",
       "      <td>9</td>\n",
       "      <td>0</td>\n",
       "      <td>Top US Envoy: Violence In Kenya Is  Ethnic Cle...</td>\n",
       "      <td>False</td>\n",
       "      <td>smacfarl</td>\n",
       "      <td>worldnews</td>\n",
       "    </tr>\n",
       "    <tr>\n",
       "      <th>12</th>\n",
       "      <td>1201722210</td>\n",
       "      <td>2008-01-30</td>\n",
       "      <td>1</td>\n",
       "      <td>0</td>\n",
       "      <td>Team building float to commemorate the Holocau...</td>\n",
       "      <td>False</td>\n",
       "      <td>Aerik</td>\n",
       "      <td>worldnews</td>\n",
       "    </tr>\n",
       "    <tr>\n",
       "      <th>13</th>\n",
       "      <td>1201765485</td>\n",
       "      <td>2008-01-31</td>\n",
       "      <td>1</td>\n",
       "      <td>0</td>\n",
       "      <td>Migrant workers told to abandon Lunar New Year...</td>\n",
       "      <td>False</td>\n",
       "      <td>markansoul</td>\n",
       "      <td>worldnews</td>\n",
       "    </tr>\n",
       "    <tr>\n",
       "      <th>14</th>\n",
       "      <td>1201794451</td>\n",
       "      <td>2008-01-31</td>\n",
       "      <td>2</td>\n",
       "      <td>0</td>\n",
       "      <td>Sarkozy, Girlfriend Sue Ryanair Over Ad</td>\n",
       "      <td>False</td>\n",
       "      <td>Moldavite</td>\n",
       "      <td>worldnews</td>\n",
       "    </tr>\n",
       "    <tr>\n",
       "      <th>15</th>\n",
       "      <td>1201794900</td>\n",
       "      <td>2008-01-31</td>\n",
       "      <td>3</td>\n",
       "      <td>0</td>\n",
       "      <td>Nicolas Sarkozy, Angela Merkel confirm their o...</td>\n",
       "      <td>False</td>\n",
       "      <td>Moldavite</td>\n",
       "      <td>worldnews</td>\n",
       "    </tr>\n",
       "    <tr>\n",
       "      <th>16</th>\n",
       "      <td>1201799407</td>\n",
       "      <td>2008-01-31</td>\n",
       "      <td>7</td>\n",
       "      <td>0</td>\n",
       "      <td>Mass Evacuations Continue  in Kenya</td>\n",
       "      <td>False</td>\n",
       "      <td>smacfarl</td>\n",
       "      <td>worldnews</td>\n",
       "    </tr>\n",
       "    <tr>\n",
       "      <th>17</th>\n",
       "      <td>1201802685</td>\n",
       "      <td>2008-01-31</td>\n",
       "      <td>3</td>\n",
       "      <td>0</td>\n",
       "      <td>Poor Haitians Resort to Eating Dirt</td>\n",
       "      <td>False</td>\n",
       "      <td>Armagedonovich</td>\n",
       "      <td>worldnews</td>\n",
       "    </tr>\n",
       "    <tr>\n",
       "      <th>18</th>\n",
       "      <td>1201834758</td>\n",
       "      <td>2008-02-01</td>\n",
       "      <td>0</td>\n",
       "      <td>0</td>\n",
       "      <td>European Commission takes Greece to court over...</td>\n",
       "      <td>False</td>\n",
       "      <td>Moldavite</td>\n",
       "      <td>worldnews</td>\n",
       "    </tr>\n",
       "    <tr>\n",
       "      <th>19</th>\n",
       "      <td>1201886520</td>\n",
       "      <td>2008-02-01</td>\n",
       "      <td>4</td>\n",
       "      <td>0</td>\n",
       "      <td>Rambo banned in Burma</td>\n",
       "      <td>False</td>\n",
       "      <td>JoeyRamone63</td>\n",
       "      <td>worldnews</td>\n",
       "    </tr>\n",
       "  </tbody>\n",
       "</table>\n",
       "</div>"
      ],
      "text/plain": [
       "    time_created date_created  up_votes  down_votes  \\\n",
       "0     1201232046   2008-01-25         3           0   \n",
       "1     1201232075   2008-01-25         2           0   \n",
       "2     1201232523   2008-01-25         3           0   \n",
       "3     1201233290   2008-01-25         1           0   \n",
       "4     1201274720   2008-01-25         4           0   \n",
       "5     1201287889   2008-01-25        15           0   \n",
       "6     1201289438   2008-01-25         5           0   \n",
       "7     1201536662   2008-01-28         0           0   \n",
       "8     1201558396   2008-01-28         4           0   \n",
       "9     1201635869   2008-01-29         3           0   \n",
       "10    1201701773   2008-01-30         4           0   \n",
       "11    1201719875   2008-01-30         9           0   \n",
       "12    1201722210   2008-01-30         1           0   \n",
       "13    1201765485   2008-01-31         1           0   \n",
       "14    1201794451   2008-01-31         2           0   \n",
       "15    1201794900   2008-01-31         3           0   \n",
       "16    1201799407   2008-01-31         7           0   \n",
       "17    1201802685   2008-01-31         3           0   \n",
       "18    1201834758   2008-02-01         0           0   \n",
       "19    1201886520   2008-02-01         4           0   \n",
       "\n",
       "                                                title  over_18  \\\n",
       "0                   Scores killed in Pakistan clashes    False   \n",
       "1                    Japan resumes refuelling mission    False   \n",
       "2                     US presses Egypt on Gaza border    False   \n",
       "3        Jump-start economy: Give health care to all     False   \n",
       "4     Council of Europe bashes EU&UN terror blacklist    False   \n",
       "5   Hay presto! Farmer unveils the  illegal  mock-...    False   \n",
       "6   Strikes, Protests and Gridlock at the Poland-U...    False   \n",
       "7                      The U.N. Mismanagement Program    False   \n",
       "8           Nicolas Sarkozy threatens to sue Ryanair     False   \n",
       "9   US plans for missile shields in Polish town me...    False   \n",
       "10  Archbishop of Canterbury calls for new law to ...    False   \n",
       "11  Top US Envoy: Violence In Kenya Is  Ethnic Cle...    False   \n",
       "12  Team building float to commemorate the Holocau...    False   \n",
       "13  Migrant workers told to abandon Lunar New Year...    False   \n",
       "14            Sarkozy, Girlfriend Sue Ryanair Over Ad    False   \n",
       "15  Nicolas Sarkozy, Angela Merkel confirm their o...    False   \n",
       "16                Mass Evacuations Continue  in Kenya    False   \n",
       "17                Poor Haitians Resort to Eating Dirt    False   \n",
       "18  European Commission takes Greece to court over...    False   \n",
       "19                              Rambo banned in Burma    False   \n",
       "\n",
       "            author   category  \n",
       "0            polar  worldnews  \n",
       "1            polar  worldnews  \n",
       "2            polar  worldnews  \n",
       "3          fadi420  worldnews  \n",
       "4         mhermans  worldnews  \n",
       "5   Armagedonovich  worldnews  \n",
       "6          Clythos  worldnews  \n",
       "7        Moldavite  worldnews  \n",
       "8        Moldavite  worldnews  \n",
       "9     JoeyRamone63  worldnews  \n",
       "10      bgholt1970  worldnews  \n",
       "11        smacfarl  worldnews  \n",
       "12           Aerik  worldnews  \n",
       "13      markansoul  worldnews  \n",
       "14       Moldavite  worldnews  \n",
       "15       Moldavite  worldnews  \n",
       "16        smacfarl  worldnews  \n",
       "17  Armagedonovich  worldnews  \n",
       "18       Moldavite  worldnews  \n",
       "19    JoeyRamone63  worldnews  "
      ]
     },
     "execution_count": 7,
     "metadata": {},
     "output_type": "execute_result"
    }
   ],
   "source": [
    "# observe some entries\n",
    "df.head(20)"
   ]
  },
  {
   "cell_type": "markdown",
   "id": "145a27e3",
   "metadata": {},
   "source": [
    "After Googling some of these author names and titles, I discovered this dataset was part of a Kaggle competition.  \n",
    "The data was taken from a subreddit, called \"worldnews\", from January 2008 until November 2016."
   ]
  },
  {
   "cell_type": "markdown",
   "id": "2cb77953",
   "metadata": {},
   "source": [
    "Since the challenge mentions RAM size as a bottleneck, I'll start with compressing the data."
   ]
  },
  {
   "cell_type": "code",
   "execution_count": null,
   "id": "32a46ea0",
   "metadata": {},
   "outputs": [],
   "source": []
  },
  {
   "cell_type": "markdown",
   "id": "3c616538",
   "metadata": {},
   "source": [
    "> **REDUCE MEMORY SIZE**"
   ]
  },
  {
   "cell_type": "code",
   "execution_count": 8,
   "id": "9b7e6c6d",
   "metadata": {},
   "outputs": [
    {
     "data": {
      "text/plain": [
       "Index               128\n",
       "time_created    4073888\n",
       "date_created    4073888\n",
       "up_votes        4073888\n",
       "down_votes      4073888\n",
       "title           4073888\n",
       "over_18          509236\n",
       "author          4073888\n",
       "category        4073888\n",
       "dtype: int64"
      ]
     },
     "execution_count": 8,
     "metadata": {},
     "output_type": "execute_result"
    }
   ],
   "source": [
    "# observe memory distribution across DataFrame\n",
    "df.memory_usage()"
   ]
  },
  {
   "cell_type": "code",
   "execution_count": 9,
   "id": "10d3442c",
   "metadata": {},
   "outputs": [
    {
     "data": {
      "text/plain": [
       "1048576"
      ]
     },
     "execution_count": 9,
     "metadata": {},
     "output_type": "execute_result"
    }
   ],
   "source": [
    "# create bytes convertion factor\n",
    "BYTES_PER_MEBIBYTE = (2**10)**2\n",
    "BYTES_PER_MEBIBYTE"
   ]
  },
  {
   "cell_type": "code",
   "execution_count": 10,
   "id": "ecc8727d",
   "metadata": {},
   "outputs": [
    {
     "name": "stdout",
     "output_type": "stream",
     "text": [
      "Initial Memory Size: 27.682 MiB\n"
     ]
    }
   ],
   "source": [
    "# observe initial memory size\n",
    "START_MEMORY = df.memory_usage().sum() / BYTES_PER_MEBIBYTE\n",
    "print(f'Initial Memory Size: {START_MEMORY:.3f} MiB')"
   ]
  },
  {
   "cell_type": "markdown",
   "id": "560033f7",
   "metadata": {},
   "source": [
    "I'll start with the down votes."
   ]
  },
  {
   "cell_type": "code",
   "execution_count": 11,
   "id": "1d5d0eab",
   "metadata": {},
   "outputs": [
    {
     "data": {
      "text/plain": [
       "0    509236\n",
       "Name: down_votes, dtype: int64"
      ]
     },
     "execution_count": 11,
     "metadata": {},
     "output_type": "execute_result"
    }
   ],
   "source": [
    "# observe distribution of down votes\n",
    "df['down_votes'].value_counts()"
   ]
  },
  {
   "cell_type": "markdown",
   "id": "c4697f89",
   "metadata": {},
   "source": [
    "The down votes are all zero valued.  \n",
    "This feature holds no information."
   ]
  },
  {
   "cell_type": "code",
   "execution_count": 12,
   "id": "9d108f5d",
   "metadata": {},
   "outputs": [
    {
     "name": "stdout",
     "output_type": "stream",
     "text": [
      "New Memory Size: 23.797 MiB\n"
     ]
    }
   ],
   "source": [
    "# remove down voteS column\n",
    "df.drop(['down_votes'], axis=1, inplace=True)\n",
    "# show new memory size\n",
    "current_memory = df.memory_usage().sum() / BYTES_PER_MEBIBYTE\n",
    "print(f'New Memory Size: {current_memory:.3f} MiB')"
   ]
  },
  {
   "cell_type": "markdown",
   "id": "a075446c",
   "metadata": {},
   "source": [
    "Now, I'll turn to the category feature."
   ]
  },
  {
   "cell_type": "code",
   "execution_count": 13,
   "id": "ff916629",
   "metadata": {},
   "outputs": [
    {
     "data": {
      "text/plain": [
       "worldnews    509236\n",
       "Name: category, dtype: int64"
      ]
     },
     "execution_count": 13,
     "metadata": {},
     "output_type": "execute_result"
    }
   ],
   "source": [
    "# observe distribution of category\n",
    "df['category'].value_counts()"
   ]
  },
  {
   "cell_type": "markdown",
   "id": "f91f41aa",
   "metadata": {},
   "source": [
    "This feature is not useful, either."
   ]
  },
  {
   "cell_type": "code",
   "execution_count": 14,
   "id": "b1459240",
   "metadata": {},
   "outputs": [
    {
     "name": "stdout",
     "output_type": "stream",
     "text": [
      "New Memory Size: 19.912 MiB\n"
     ]
    }
   ],
   "source": [
    "# remove category column\n",
    "df.drop(['category'], axis=1, inplace=True)\n",
    "# show new memory size\n",
    "current_memory = df.memory_usage().sum() / BYTES_PER_MEBIBYTE\n",
    "print(f'New Memory Size: {current_memory:.3f} MiB')"
   ]
  },
  {
   "cell_type": "markdown",
   "id": "afdc321c",
   "metadata": {},
   "source": [
    "I'll look at the up votes, now."
   ]
  },
  {
   "cell_type": "code",
   "execution_count": 15,
   "id": "ff71bb8c",
   "metadata": {},
   "outputs": [
    {
     "name": "stdout",
     "output_type": "stream",
     "text": [
      "Data Type: int64     Max Val: 21253     Min Val: 0\n"
     ]
    }
   ],
   "source": [
    "# show data type and range of values for up votes\n",
    "print(f\"Data Type: {df['up_votes'].dtype} \\\n",
    "    Max Val: {df['up_votes'].max()} \\\n",
    "    Min Val: {df['up_votes'].min()}\")"
   ]
  },
  {
   "cell_type": "code",
   "execution_count": 16,
   "id": "f5d3911e",
   "metadata": {},
   "outputs": [
    {
     "data": {
      "text/plain": [
       "iinfo(min=-32768, max=32767, dtype=int16)"
      ]
     },
     "execution_count": 16,
     "metadata": {},
     "output_type": "execute_result"
    }
   ],
   "source": [
    "# show range of values that can be cast as Numpy 16 bit integer\n",
    "np.iinfo(np.int16)"
   ]
  },
  {
   "cell_type": "markdown",
   "id": "0d652a92",
   "metadata": {},
   "source": [
    "I can store this feature as a smaller data type."
   ]
  },
  {
   "cell_type": "code",
   "execution_count": 17,
   "id": "29a72071",
   "metadata": {},
   "outputs": [
    {
     "name": "stdout",
     "output_type": "stream",
     "text": [
      "New Memory Size: 16.998 MiB\n"
     ]
    }
   ],
   "source": [
    "# convert upvote column to Numpy 16 bit integer\n",
    "df['up_votes'] = df['up_votes'].astype('int16')\n",
    "# show new memory size\n",
    "current_memory = df.memory_usage().sum() / BYTES_PER_MEBIBYTE\n",
    "print(f'New Memory Size: {current_memory:.3f} MiB')"
   ]
  },
  {
   "cell_type": "code",
   "execution_count": 18,
   "id": "adef3628",
   "metadata": {},
   "outputs": [
    {
     "name": "stdout",
     "output_type": "stream",
     "text": [
      "Memory Size Reduction:    38%\n"
     ]
    }
   ],
   "source": [
    "# show memory size reduction from initial size\n",
    "print(f'Memory Size Reduction:\\\n",
    "    {np.int((START_MEMORY - current_memory) / START_MEMORY * 100)}%')"
   ]
  },
  {
   "cell_type": "markdown",
   "id": "2c95374b",
   "metadata": {},
   "source": [
    "This is the percent that the memory footprint was reduced, before feature engineering."
   ]
  },
  {
   "cell_type": "markdown",
   "id": "a8808e73",
   "metadata": {},
   "source": [
    "Before continuing, I will verify that all creation times are within the stated range."
   ]
  },
  {
   "cell_type": "code",
   "execution_count": 19,
   "id": "74dbcf97",
   "metadata": {},
   "outputs": [
    {
     "data": {
      "text/html": [
       "<div>\n",
       "<style scoped>\n",
       "    .dataframe tbody tr th:only-of-type {\n",
       "        vertical-align: middle;\n",
       "    }\n",
       "\n",
       "    .dataframe tbody tr th {\n",
       "        vertical-align: top;\n",
       "    }\n",
       "\n",
       "    .dataframe thead th {\n",
       "        text-align: right;\n",
       "    }\n",
       "</style>\n",
       "<table border=\"1\" class=\"dataframe\">\n",
       "  <thead>\n",
       "    <tr style=\"text-align: right;\">\n",
       "      <th></th>\n",
       "      <th>time_created</th>\n",
       "      <th>date_created</th>\n",
       "      <th>up_votes</th>\n",
       "      <th>title</th>\n",
       "      <th>over_18</th>\n",
       "      <th>author</th>\n",
       "    </tr>\n",
       "  </thead>\n",
       "  <tbody>\n",
       "  </tbody>\n",
       "</table>\n",
       "</div>"
      ],
      "text/plain": [
       "Empty DataFrame\n",
       "Columns: [time_created, date_created, up_votes, title, over_18, author]\n",
       "Index: []"
      ]
     },
     "execution_count": 19,
     "metadata": {},
     "output_type": "execute_result"
    }
   ],
   "source": [
    "# get earlist and latest times\n",
    "time_earliest = df['time_created'][0]\n",
    "time_latest = df['time_created'].iloc[-1]\n",
    "# check for data points out of time range\n",
    "df.loc[(df['time_created'] < time_earliest) | (df['time_created'] > time_latest)]"
   ]
  },
  {
   "cell_type": "markdown",
   "id": "10325269",
   "metadata": {},
   "source": [
    "I will check on missing data from the string objects, as well."
   ]
  },
  {
   "cell_type": "code",
   "execution_count": 20,
   "id": "d375d59c",
   "metadata": {},
   "outputs": [
    {
     "data": {
      "text/plain": [
       "date_created    0\n",
       "title           0\n",
       "author          0\n",
       "dtype: int64"
      ]
     },
     "execution_count": 20,
     "metadata": {},
     "output_type": "execute_result"
    }
   ],
   "source": [
    "# look for empty strings\n",
    "df[['date_created', 'title', 'author']].isin(['']).sum()"
   ]
  },
  {
   "cell_type": "markdown",
   "id": "1fe5cb98",
   "metadata": {},
   "source": [
    "Despite wanting to reduce the required memory, I will add some features to improve the model's predictive power."
   ]
  },
  {
   "cell_type": "code",
   "execution_count": null,
   "id": "9e8cee90",
   "metadata": {},
   "outputs": [],
   "source": []
  },
  {
   "cell_type": "markdown",
   "id": "2ee831b7",
   "metadata": {},
   "source": [
    "> **FEATURE ENGINEERING**"
   ]
  },
  {
   "cell_type": "markdown",
   "id": "05ecbacf",
   "metadata": {},
   "source": [
    "Reddit gets its revenue from advertising and premium subscriptions that remove the ads.  \n",
    "I will assume the pricing of advertisements is proportional to the click-through rate those ads generate.  \n",
    "From a revenue perspective, having more active users for longer durations will increase the number of click-throughs.  \n",
    "A business goal would be to increase user participation, leading to higher ad pricing.  \n",
    "So, this begs the question:  \n",
    "\"Given the current data, which articles lead to incresed user participation?\""
   ]
  },
  {
   "cell_type": "markdown",
   "id": "16e7e425",
   "metadata": {},
   "source": [
    "There are two ways that I will look at this question. \n",
    "1. IMPULSIVE SELECTION  \n",
    "Assume that the words comprising the titles of the articles are influencing users to read the articles in the moment.  \n",
    "This perspective views the up votes for each article as being independent of those for other articles.  \n",
    "2. SELECTION  BY AUTHOR  \n",
    "Assume that the authors are influencing the amount of user activity.   \n",
    "Authors may be building up a following of readers, who trust that the articles the authors posts will be preferred.  "
   ]
  },
  {
   "cell_type": "markdown",
   "id": "bf447373",
   "metadata": {},
   "source": [
    "I suspect that the truth is some combination of both factors.  \n",
    "The author may be heuristically selecting more interesting article titles.  \n",
    "This may be a way to grab the attention of infrequent users with less randomness."
   ]
  },
  {
   "cell_type": "code",
   "execution_count": null,
   "id": "ea98f015",
   "metadata": {},
   "outputs": [],
   "source": []
  },
  {
   "cell_type": "markdown",
   "id": "bb9dd2c8",
   "metadata": {},
   "source": [
    "> **CYCLICAL TIME FEATURES**"
   ]
  },
  {
   "cell_type": "markdown",
   "id": "ed067863",
   "metadata": {},
   "source": [
    "At this point, I would like to extract some cyclical time data from the time created feature.  \n",
    "Since the feature's values are expressed in seconds, I will create a new feature to represent the seconds of the day.   \n",
    "Unfortunately, the seconds in a day is discontinuous, when one day transitions to the next.  \n",
    "That is, the seconds reset to zero at midnight."
   ]
  },
  {
   "cell_type": "code",
   "execution_count": 21,
   "id": "75b19a0b",
   "metadata": {},
   "outputs": [
    {
     "data": {
      "text/plain": [
       "1201219200.0"
      ]
     },
     "execution_count": 21,
     "metadata": {},
     "output_type": "execute_result"
    }
   ],
   "source": [
    "# get epoch time for midnight previous to start of time data\n",
    "first_midnight = pd.Series(pd.to_datetime(\n",
    "    '2008-01-25T00:00:00')).apply(\n",
    "    lambda x: x.timestamp())[0]\n",
    "first_midnight"
   ]
  },
  {
   "cell_type": "code",
   "execution_count": 22,
   "id": "9c264d55",
   "metadata": {},
   "outputs": [
    {
     "data": {
      "text/plain": [
       "86400"
      ]
     },
     "execution_count": 22,
     "metadata": {},
     "output_type": "execute_result"
    }
   ],
   "source": [
    "# calculate seconds in a day\n",
    "sec_in_day = 24 * 60 * 60\n",
    "sec_in_day"
   ]
  },
  {
   "cell_type": "code",
   "execution_count": 23,
   "id": "88a88984",
   "metadata": {},
   "outputs": [
    {
     "data": {
      "text/plain": [
       "100    85798.0\n",
       "101    72837.0\n",
       "102    72857.0\n",
       "103    24218.0\n",
       "104    25541.0\n",
       "105    52036.0\n",
       "106    58576.0\n",
       "107    58588.0\n",
       "108    61363.0\n",
       "109    61370.0\n",
       "Name: time_created, dtype: float64"
      ]
     },
     "execution_count": 23,
     "metadata": {},
     "output_type": "execute_result"
    }
   ],
   "source": [
    "# get time of day as its count in seconds from midnight\n",
    "discontinuous_seconds = (df['time_created'][100:500] - first_midnight) % sec_in_day\n",
    "discontinuous_seconds[:10]"
   ]
  },
  {
   "cell_type": "code",
   "execution_count": 24,
   "id": "04f51ca3",
   "metadata": {},
   "outputs": [
    {
     "data": {
      "image/png": "[encoded data removed]",
      "text/plain": [
       "<Figure size 864x288 with 1 Axes>"
      ]
     },
     "metadata": {},
     "output_type": "display_data"
    }
   ],
   "source": [
    "# plot time of day to show that it is discontinuous at midnight\n",
    "\n",
    "sns.scatterplot(x=pd.to_datetime(df['time_created'], unit='s'), \n",
    "             y=discontinuous_seconds[100:], color=mp.colors(0))\n",
    "\n",
    "plt.xlabel('Date', fontsize=15)\n",
    "plt.ylabel('Epoch Time Created', fontsize=15)\n",
    "\n",
    "plt.title('Discontinuous Time of Day', fontsize=18);"
   ]
  },
  {
   "cell_type": "markdown",
   "id": "ad8b41cc",
   "metadata": {},
   "source": [
    "I will use a Fourier Transformation to represent the seconds of the day as a smooth linear variable."
   ]
  },
  {
   "cell_type": "code",
   "execution_count": 25,
   "id": "c8515fa1",
   "metadata": {},
   "outputs": [
    {
     "data": {
      "text/plain": [
       "[(0.8041163244860507, 0.5944719814213655),\n",
       " (0.8053682408058003, 0.5927748279923587),\n",
       " (0.8242497396725587, 0.5662264270145992),\n",
       " (0.8545343820848559, 0.5193948303890341),\n",
       " (-0.7807940266757893, -0.6247885145450472)]"
      ]
     },
     "execution_count": 25,
     "metadata": {},
     "output_type": "execute_result"
    }
   ],
   "source": [
    "# compute cyclical time variables\n",
    "df['sin_second'] = np.sin(2 * np.pi * df['time_created'] / sec_in_day)\n",
    "df['cos_second'] = np.cos(2 * np.pi * df['time_created'] / sec_in_day)\n",
    "# show first 5 variable pairs\n",
    "list(zip(df['sin_second'][:5], df['cos_second'][:5]))"
   ]
  },
  {
   "cell_type": "markdown",
   "id": "60b1bbe6",
   "metadata": {},
   "source": [
    "I want to scale the discontinuous seconds to be between -1 and 1, in order to plot them with the new values."
   ]
  },
  {
   "cell_type": "code",
   "execution_count": 26,
   "id": "0c0410d6",
   "metadata": {},
   "outputs": [
    {
     "data": {
      "text/plain": [
       "100    0.989336\n",
       "101    0.687552\n",
       "102    0.688018\n",
       "103   -0.444491\n",
       "104   -0.413686\n",
       "105    0.203223\n",
       "106    0.355500\n",
       "107    0.355779\n",
       "108    0.420392\n",
       "109    0.420555\n",
       "Name: time_created, dtype: float64"
      ]
     },
     "execution_count": 26,
     "metadata": {},
     "output_type": "execute_result"
    }
   ],
   "source": [
    "# scale discontinuous time variable to be between -1 and 1\n",
    "scaled_sec = 2 * (discontinuous_seconds - discontinuous_seconds.min()\n",
    "                 ) / (discontinuous_seconds.max() - discontinuous_seconds.min()) - 1\n",
    "scaled_sec[:10]"
   ]
  },
  {
   "cell_type": "code",
   "execution_count": 27,
   "id": "af7256bf",
   "metadata": {},
   "outputs": [
    {
     "data": {
      "image/png": "[encoded data removed]",
      "text/plain": [
       "<Figure size 864x288 with 1 Axes>"
      ]
     },
     "metadata": {},
     "output_type": "display_data"
    }
   ],
   "source": [
    "# plot discontinuous time of day and cyclical time to compare\n",
    "\n",
    "sns.lineplot(x=pd.to_datetime(df['time_created'], unit='s'), \n",
    "             y=df['sin_second'][100:500], color=mp.colors(0), label='Sine Time')\n",
    "sns.lineplot(x=pd.to_datetime(df['time_created'], unit='s'), \n",
    "             y=df['cos_second'][100:500], color=mp.colors(1), label='Cosine Time')\n",
    "sns.scatterplot(x=pd.to_datetime(df['time_created'], unit='s'), \n",
    "             y=scaled_sec, color=mp.colors(2), label='Broken Time')\n",
    "\n",
    "plt.xlabel('Date', fontsize=15)\n",
    "plt.ylabel('Time Created', fontsize=15)\n",
    "\n",
    "plt.legend(bbox_to_anchor=(1.0, 0.5), fontsize=10)\n",
    "plt.title('Discontinuous and Cyclical Time of Day', fontsize=18);"
   ]
  },
  {
   "cell_type": "markdown",
   "id": "d642e3d0",
   "metadata": {},
   "source": [
    "I can show that these new features preserve the cyclical nature of the time of day by plotting them as coordinates."
   ]
  },
  {
   "cell_type": "code",
   "execution_count": 28,
   "id": "f40ab693",
   "metadata": {},
   "outputs": [
    {
     "data": {
      "text/plain": [
       "1.0    509236\n",
       "dtype: int64"
      ]
     },
     "execution_count": 28,
     "metadata": {},
     "output_type": "execute_result"
    }
   ],
   "source": [
    "# show that new variables hold constant relation for each observation\n",
    "radius = np.round(df['sin_second'] ** 2 + df['cos_second'] ** 2, 5)\n",
    "radius.value_counts()"
   ]
  },
  {
   "cell_type": "code",
   "execution_count": 29,
   "id": "ea996090",
   "metadata": {},
   "outputs": [
    {
     "data": {
      "image/png": "[encoded data removed]",
      "text/plain": [
       "<Figure size 864x288 with 1 Axes>"
      ]
     },
     "metadata": {},
     "output_type": "display_data"
    }
   ],
   "source": [
    "# plot time of day in terms of cyclical coordinates\n",
    "\n",
    "# plot midnight coordinates\n",
    "plt.plot(np.sin(2 * np.pi * first_midnight / sec_in_day), \n",
    "         np.cos(2 * np.pi * first_midnight / sec_in_day), \n",
    "         color=mp.colors(5), marker='o', label='Midnight')\n",
    "\n",
    "# get time information to display first observation\n",
    "first_time = df['time_created'][0]\n",
    "first_second = (first_time - first_midnight) % sec_in_day\n",
    "\n",
    "# plot first observation coordinates\n",
    "plt.plot(np.sin(2 * np.pi * first_second / sec_in_day), \n",
    "         np.cos(2 * np.pi * first_second / sec_in_day), \n",
    "         color=mp.colors(2), marker='o', \n",
    "         label=str(pd.to_datetime(first_time, unit='s').time()))\n",
    "\n",
    "# plot random observations coordinates\n",
    "sns.scatterplot(x='sin_second', y='cos_second', data=df.sample(100), \n",
    "                color=mp.colors(4)).set_aspect('equal')\n",
    "\n",
    "plt.xlabel('Sine Second', fontsize=15)\n",
    "plt.ylabel('Cosine Second', fontsize=15)\n",
    "\n",
    "plt.legend(bbox_to_anchor=(1.0, 0.5), fontsize=10)\n",
    "plt.title('Cyclical Time of Day', fontsize=18);"
   ]
  },
  {
   "cell_type": "code",
   "execution_count": null,
   "id": "b6d77d88",
   "metadata": {},
   "outputs": [],
   "source": []
  },
  {
   "cell_type": "markdown",
   "id": "654366df",
   "metadata": {},
   "source": [
    "> **DAY OF THE WEEK FEATURE**"
   ]
  },
  {
   "cell_type": "markdown",
   "id": "a6a6ca69",
   "metadata": {},
   "source": [
    "I would like to extract the day of the week information from the time data.  \n",
    "There may be a trend related to when the titles were posted during the week."
   ]
  },
  {
   "cell_type": "code",
   "execution_count": 30,
   "id": "5e42c94d",
   "metadata": {},
   "outputs": [
    {
     "data": {
      "text/html": [
       "<div>\n",
       "<style scoped>\n",
       "    .dataframe tbody tr th:only-of-type {\n",
       "        vertical-align: middle;\n",
       "    }\n",
       "\n",
       "    .dataframe tbody tr th {\n",
       "        vertical-align: top;\n",
       "    }\n",
       "\n",
       "    .dataframe thead th {\n",
       "        text-align: right;\n",
       "    }\n",
       "</style>\n",
       "<table border=\"1\" class=\"dataframe\">\n",
       "  <thead>\n",
       "    <tr style=\"text-align: right;\">\n",
       "      <th></th>\n",
       "      <th>time_created</th>\n",
       "      <th>date_created</th>\n",
       "      <th>up_votes</th>\n",
       "      <th>title</th>\n",
       "      <th>over_18</th>\n",
       "      <th>author</th>\n",
       "      <th>sin_second</th>\n",
       "      <th>cos_second</th>\n",
       "      <th>day</th>\n",
       "    </tr>\n",
       "  </thead>\n",
       "  <tbody>\n",
       "    <tr>\n",
       "      <th>0</th>\n",
       "      <td>1201232046</td>\n",
       "      <td>2008-01-25</td>\n",
       "      <td>3</td>\n",
       "      <td>Scores killed in Pakistan clashes</td>\n",
       "      <td>False</td>\n",
       "      <td>polar</td>\n",
       "      <td>0.804116</td>\n",
       "      <td>0.594472</td>\n",
       "      <td>Friday</td>\n",
       "    </tr>\n",
       "    <tr>\n",
       "      <th>1</th>\n",
       "      <td>1201232075</td>\n",
       "      <td>2008-01-25</td>\n",
       "      <td>2</td>\n",
       "      <td>Japan resumes refuelling mission</td>\n",
       "      <td>False</td>\n",
       "      <td>polar</td>\n",
       "      <td>0.805368</td>\n",
       "      <td>0.592775</td>\n",
       "      <td>Friday</td>\n",
       "    </tr>\n",
       "    <tr>\n",
       "      <th>2</th>\n",
       "      <td>1201232523</td>\n",
       "      <td>2008-01-25</td>\n",
       "      <td>3</td>\n",
       "      <td>US presses Egypt on Gaza border</td>\n",
       "      <td>False</td>\n",
       "      <td>polar</td>\n",
       "      <td>0.824250</td>\n",
       "      <td>0.566226</td>\n",
       "      <td>Friday</td>\n",
       "    </tr>\n",
       "    <tr>\n",
       "      <th>3</th>\n",
       "      <td>1201233290</td>\n",
       "      <td>2008-01-25</td>\n",
       "      <td>1</td>\n",
       "      <td>Jump-start economy: Give health care to all</td>\n",
       "      <td>False</td>\n",
       "      <td>fadi420</td>\n",
       "      <td>0.854534</td>\n",
       "      <td>0.519395</td>\n",
       "      <td>Friday</td>\n",
       "    </tr>\n",
       "    <tr>\n",
       "      <th>4</th>\n",
       "      <td>1201274720</td>\n",
       "      <td>2008-01-25</td>\n",
       "      <td>4</td>\n",
       "      <td>Council of Europe bashes EU&amp;UN terror blacklist</td>\n",
       "      <td>False</td>\n",
       "      <td>mhermans</td>\n",
       "      <td>-0.780794</td>\n",
       "      <td>-0.624789</td>\n",
       "      <td>Friday</td>\n",
       "    </tr>\n",
       "    <tr>\n",
       "      <th>5</th>\n",
       "      <td>1201287889</td>\n",
       "      <td>2008-01-25</td>\n",
       "      <td>15</td>\n",
       "      <td>Hay presto! Farmer unveils the  illegal  mock-...</td>\n",
       "      <td>False</td>\n",
       "      <td>Armagedonovich</td>\n",
       "      <td>-0.960273</td>\n",
       "      <td>0.279061</td>\n",
       "      <td>Friday</td>\n",
       "    </tr>\n",
       "    <tr>\n",
       "      <th>6</th>\n",
       "      <td>1201289438</td>\n",
       "      <td>2008-01-25</td>\n",
       "      <td>5</td>\n",
       "      <td>Strikes, Protests and Gridlock at the Poland-U...</td>\n",
       "      <td>False</td>\n",
       "      <td>Clythos</td>\n",
       "      <td>-0.922818</td>\n",
       "      <td>0.385235</td>\n",
       "      <td>Friday</td>\n",
       "    </tr>\n",
       "    <tr>\n",
       "      <th>7</th>\n",
       "      <td>1201536662</td>\n",
       "      <td>2008-01-28</td>\n",
       "      <td>0</td>\n",
       "      <td>The U.N. Mismanagement Program</td>\n",
       "      <td>False</td>\n",
       "      <td>Moldavite</td>\n",
       "      <td>-0.889084</td>\n",
       "      <td>-0.457745</td>\n",
       "      <td>Monday</td>\n",
       "    </tr>\n",
       "  </tbody>\n",
       "</table>\n",
       "</div>"
      ],
      "text/plain": [
       "   time_created date_created  up_votes  \\\n",
       "0    1201232046   2008-01-25         3   \n",
       "1    1201232075   2008-01-25         2   \n",
       "2    1201232523   2008-01-25         3   \n",
       "3    1201233290   2008-01-25         1   \n",
       "4    1201274720   2008-01-25         4   \n",
       "5    1201287889   2008-01-25        15   \n",
       "6    1201289438   2008-01-25         5   \n",
       "7    1201536662   2008-01-28         0   \n",
       "\n",
       "                                               title  over_18          author  \\\n",
       "0                  Scores killed in Pakistan clashes    False           polar   \n",
       "1                   Japan resumes refuelling mission    False           polar   \n",
       "2                    US presses Egypt on Gaza border    False           polar   \n",
       "3       Jump-start economy: Give health care to all     False         fadi420   \n",
       "4    Council of Europe bashes EU&UN terror blacklist    False        mhermans   \n",
       "5  Hay presto! Farmer unveils the  illegal  mock-...    False  Armagedonovich   \n",
       "6  Strikes, Protests and Gridlock at the Poland-U...    False         Clythos   \n",
       "7                     The U.N. Mismanagement Program    False       Moldavite   \n",
       "\n",
       "   sin_second  cos_second     day  \n",
       "0    0.804116    0.594472  Friday  \n",
       "1    0.805368    0.592775  Friday  \n",
       "2    0.824250    0.566226  Friday  \n",
       "3    0.854534    0.519395  Friday  \n",
       "4   -0.780794   -0.624789  Friday  \n",
       "5   -0.960273    0.279061  Friday  \n",
       "6   -0.922818    0.385235  Friday  \n",
       "7   -0.889084   -0.457745  Monday  "
      ]
     },
     "execution_count": 30,
     "metadata": {},
     "output_type": "execute_result"
    }
   ],
   "source": [
    "# extract day of the week feature\n",
    "df['day'] = pd.to_datetime(df['time_created'], unit='s').dt.day_name()\n",
    "df.head(8)"
   ]
  },
  {
   "cell_type": "markdown",
   "id": "992270b7",
   "metadata": {},
   "source": [
    "I'll do a quick check on which posting days got the most up votes."
   ]
  },
  {
   "cell_type": "code",
   "execution_count": 31,
   "id": "5727d487",
   "metadata": {},
   "outputs": [
    {
     "data": {
      "text/html": [
       "<div>\n",
       "<style scoped>\n",
       "    .dataframe tbody tr th:only-of-type {\n",
       "        vertical-align: middle;\n",
       "    }\n",
       "\n",
       "    .dataframe tbody tr th {\n",
       "        vertical-align: top;\n",
       "    }\n",
       "\n",
       "    .dataframe thead th {\n",
       "        text-align: right;\n",
       "    }\n",
       "</style>\n",
       "<table border=\"1\" class=\"dataframe\">\n",
       "  <thead>\n",
       "    <tr style=\"text-align: right;\">\n",
       "      <th></th>\n",
       "      <th>day</th>\n",
       "      <th>up_votes</th>\n",
       "    </tr>\n",
       "  </thead>\n",
       "  <tbody>\n",
       "    <tr>\n",
       "      <th>6</th>\n",
       "      <td>Wednesday</td>\n",
       "      <td>8720880.0</td>\n",
       "    </tr>\n",
       "    <tr>\n",
       "      <th>5</th>\n",
       "      <td>Tuesday</td>\n",
       "      <td>8660319.0</td>\n",
       "    </tr>\n",
       "    <tr>\n",
       "      <th>4</th>\n",
       "      <td>Thursday</td>\n",
       "      <td>8375428.0</td>\n",
       "    </tr>\n",
       "    <tr>\n",
       "      <th>1</th>\n",
       "      <td>Monday</td>\n",
       "      <td>8374060.0</td>\n",
       "    </tr>\n",
       "    <tr>\n",
       "      <th>0</th>\n",
       "      <td>Friday</td>\n",
       "      <td>8163035.0</td>\n",
       "    </tr>\n",
       "    <tr>\n",
       "      <th>3</th>\n",
       "      <td>Sunday</td>\n",
       "      <td>7447386.0</td>\n",
       "    </tr>\n",
       "    <tr>\n",
       "      <th>2</th>\n",
       "      <td>Saturday</td>\n",
       "      <td>7413648.0</td>\n",
       "    </tr>\n",
       "  </tbody>\n",
       "</table>\n",
       "</div>"
      ],
      "text/plain": [
       "         day   up_votes\n",
       "6  Wednesday  8720880.0\n",
       "5    Tuesday  8660319.0\n",
       "4   Thursday  8375428.0\n",
       "1     Monday  8374060.0\n",
       "0     Friday  8163035.0\n",
       "3     Sunday  7447386.0\n",
       "2   Saturday  7413648.0"
      ]
     },
     "execution_count": 31,
     "metadata": {},
     "output_type": "execute_result"
    }
   ],
   "source": [
    "# sort posting days by number of up votes\n",
    "df.groupby(['day'], as_index=False).sum()[['day', 'up_votes']].sort_values(\n",
    "    'up_votes', ascending=False)"
   ]
  },
  {
   "cell_type": "markdown",
   "id": "c5a01e7a",
   "metadata": {},
   "source": [
    "More users are active on this subreddit during the weekdays, possible while at work.  \n",
    "Given that it has a news theme, this is not too surprising."
   ]
  },
  {
   "cell_type": "code",
   "execution_count": 32,
   "id": "7b3da09b",
   "metadata": {},
   "outputs": [
    {
     "name": "stdout",
     "output_type": "stream",
     "text": [
      "New Memory Size: 25.254 MiB\n"
     ]
    }
   ],
   "source": [
    "# convert day of the week column to smaller Pandas data type\n",
    "df['day'] = df['day'].astype('category')\n",
    "# show new memory size\n",
    "current_memory = df.memory_usage().sum() / BYTES_PER_MEBIBYTE\n",
    "print(f'New Memory Size: {current_memory:.3f} MiB')"
   ]
  },
  {
   "cell_type": "code",
   "execution_count": null,
   "id": "ff8b8be9",
   "metadata": {},
   "outputs": [],
   "source": []
  },
  {
   "cell_type": "markdown",
   "id": "040f8307",
   "metadata": {},
   "source": [
    "> **USER TRENDS OVER TIME**"
   ]
  },
  {
   "cell_type": "markdown",
   "id": "9aba062d",
   "metadata": {},
   "source": [
    "Before I go on to the second version of the data that I want to use, I would like to observe a few statistical plots."
   ]
  },
  {
   "cell_type": "markdown",
   "id": "7e59e71c",
   "metadata": {},
   "source": [
    "First, I will set DataFrame to be time indexed and sorted to help with visualizations."
   ]
  },
  {
   "cell_type": "code",
   "execution_count": 33,
   "id": "0d6f8384",
   "metadata": {},
   "outputs": [
    {
     "data": {
      "text/html": [
       "<div>\n",
       "<style scoped>\n",
       "    .dataframe tbody tr th:only-of-type {\n",
       "        vertical-align: middle;\n",
       "    }\n",
       "\n",
       "    .dataframe tbody tr th {\n",
       "        vertical-align: top;\n",
       "    }\n",
       "\n",
       "    .dataframe thead th {\n",
       "        text-align: right;\n",
       "    }\n",
       "</style>\n",
       "<table border=\"1\" class=\"dataframe\">\n",
       "  <thead>\n",
       "    <tr style=\"text-align: right;\">\n",
       "      <th></th>\n",
       "      <th>time_created</th>\n",
       "      <th>date_created</th>\n",
       "      <th>up_votes</th>\n",
       "      <th>title</th>\n",
       "      <th>over_18</th>\n",
       "      <th>author</th>\n",
       "      <th>sin_second</th>\n",
       "      <th>cos_second</th>\n",
       "      <th>day</th>\n",
       "    </tr>\n",
       "    <tr>\n",
       "      <th>time_created</th>\n",
       "      <th></th>\n",
       "      <th></th>\n",
       "      <th></th>\n",
       "      <th></th>\n",
       "      <th></th>\n",
       "      <th></th>\n",
       "      <th></th>\n",
       "      <th></th>\n",
       "      <th></th>\n",
       "    </tr>\n",
       "  </thead>\n",
       "  <tbody>\n",
       "    <tr>\n",
       "      <th>2008-01-25 03:34:06</th>\n",
       "      <td>1201232046</td>\n",
       "      <td>2008-01-25</td>\n",
       "      <td>3</td>\n",
       "      <td>Scores killed in Pakistan clashes</td>\n",
       "      <td>False</td>\n",
       "      <td>polar</td>\n",
       "      <td>0.804116</td>\n",
       "      <td>0.594472</td>\n",
       "      <td>Friday</td>\n",
       "    </tr>\n",
       "    <tr>\n",
       "      <th>2008-01-25 03:34:35</th>\n",
       "      <td>1201232075</td>\n",
       "      <td>2008-01-25</td>\n",
       "      <td>2</td>\n",
       "      <td>Japan resumes refuelling mission</td>\n",
       "      <td>False</td>\n",
       "      <td>polar</td>\n",
       "      <td>0.805368</td>\n",
       "      <td>0.592775</td>\n",
       "      <td>Friday</td>\n",
       "    </tr>\n",
       "    <tr>\n",
       "      <th>2008-01-25 03:42:03</th>\n",
       "      <td>1201232523</td>\n",
       "      <td>2008-01-25</td>\n",
       "      <td>3</td>\n",
       "      <td>US presses Egypt on Gaza border</td>\n",
       "      <td>False</td>\n",
       "      <td>polar</td>\n",
       "      <td>0.824250</td>\n",
       "      <td>0.566226</td>\n",
       "      <td>Friday</td>\n",
       "    </tr>\n",
       "  </tbody>\n",
       "</table>\n",
       "</div>"
      ],
      "text/plain": [
       "                     time_created date_created  up_votes  \\\n",
       "time_created                                               \n",
       "2008-01-25 03:34:06    1201232046   2008-01-25         3   \n",
       "2008-01-25 03:34:35    1201232075   2008-01-25         2   \n",
       "2008-01-25 03:42:03    1201232523   2008-01-25         3   \n",
       "\n",
       "                                                 title  over_18 author  \\\n",
       "time_created                                                             \n",
       "2008-01-25 03:34:06  Scores killed in Pakistan clashes    False  polar   \n",
       "2008-01-25 03:34:35   Japan resumes refuelling mission    False  polar   \n",
       "2008-01-25 03:42:03    US presses Egypt on Gaza border    False  polar   \n",
       "\n",
       "                     sin_second  cos_second     day  \n",
       "time_created                                         \n",
       "2008-01-25 03:34:06    0.804116    0.594472  Friday  \n",
       "2008-01-25 03:34:35    0.805368    0.592775  Friday  \n",
       "2008-01-25 03:42:03    0.824250    0.566226  Friday  "
      ]
     },
     "execution_count": 33,
     "metadata": {},
     "output_type": "execute_result"
    }
   ],
   "source": [
    "# create time index and sort it\n",
    "df.set_index(pd.to_datetime(df['time_created'], unit='s'), inplace=True)\n",
    "df.sort_index(inplace=True)\n",
    "df.head(3)"
   ]
  },
  {
   "cell_type": "markdown",
   "id": "bc3d966b",
   "metadata": {},
   "source": [
    "I can see that both the time created and date created features are redundant.  \n",
    "If needed, I can always extract time details, such as year, month, etc, from the index."
   ]
  },
  {
   "cell_type": "code",
   "execution_count": 34,
   "id": "8286522d",
   "metadata": {},
   "outputs": [
    {
     "name": "stdout",
     "output_type": "stream",
     "text": [
      "New Memory Size: 21.369 MiB\n"
     ]
    }
   ],
   "source": [
    "# remove redundant time data\n",
    "df.drop(['time_created', 'date_created'], axis=1, inplace=True)\n",
    "# show new memory size\n",
    "current_memory = df.memory_usage().sum() / BYTES_PER_MEBIBYTE\n",
    "print(f'New Memory Size: {current_memory:.3f} MiB')"
   ]
  },
  {
   "cell_type": "code",
   "execution_count": 35,
   "id": "088fb985",
   "metadata": {},
   "outputs": [
    {
     "name": "stdout",
     "output_type": "stream",
     "text": [
      "Memory Size Reduction:    22%\n"
     ]
    }
   ],
   "source": [
    "# show memory reduction from initial size\n",
    "print(f'Memory Size Reduction:\\\n",
    "    {np.int((START_MEMORY - current_memory) / START_MEMORY * 100)}%')"
   ]
  },
  {
   "cell_type": "markdown",
   "id": "c72383b6",
   "metadata": {},
   "source": [
    "The memory footprint is reduced, even after adding features."
   ]
  },
  {
   "cell_type": "markdown",
   "id": "9d231b59",
   "metadata": {},
   "source": [
    "First, I'll have a simple look at how the number of daily posts has increased on this subreddit."
   ]
  },
  {
   "cell_type": "code",
   "execution_count": 36,
   "id": "bf070a4b",
   "metadata": {},
   "outputs": [
    {
     "data": {
      "image/png": "[encoded data removed]",
      "text/plain": [
       "<Figure size 720x360 with 1 Axes>"
      ]
     },
     "metadata": {},
     "output_type": "display_data"
    }
   ],
   "source": [
    "# plot number of articles posted per day\n",
    "\n",
    "sns.displot(df.index, height=5, aspect=2, color=mp.colors(0))\n",
    "\n",
    "plt.xlabel('Time Created', fontsize=15)\n",
    "plt.ylabel('Count', fontsize=15)\n",
    "\n",
    "plt.title('Daily Count of Posted Articles', fontsize=18);"
   ]
  },
  {
   "cell_type": "markdown",
   "id": "589cb1e1",
   "metadata": {},
   "source": [
    "There was a large increase in posting activity, starting around 2013.  \n",
    "I'll plot the activity, cumulatively, to better show the trend."
   ]
  },
  {
   "cell_type": "code",
   "execution_count": 37,
   "id": "c6be7527",
   "metadata": {},
   "outputs": [
    {
     "data": {
      "image/png": "[encoded data removed]",
      "text/plain": [
       "<Figure size 720x360 with 1 Axes>"
      ]
     },
     "metadata": {},
     "output_type": "display_data"
    }
   ],
   "source": [
    "# plot proportion of articles posted per day\n",
    "\n",
    "sns.displot(df.index, kind='ecdf', height=5, aspect=2, color=mp.colors(0))\n",
    "\n",
    "plt.xlabel('Time Created', fontsize=15)\n",
    "plt.ylabel('Proportion of Articles', fontsize=15)\n",
    "\n",
    "plt.title('Daily Proportion of Posted Articles', fontsize=18);"
   ]
  },
  {
   "cell_type": "markdown",
   "id": "f5998e3f",
   "metadata": {},
   "source": [
    "Similarly, the daily up votes increase, as we look forward in time."
   ]
  },
  {
   "cell_type": "code",
   "execution_count": 38,
   "id": "d7c0162e",
   "metadata": {},
   "outputs": [
    {
     "data": {
      "image/png": "[encoded data removed]",
      "text/plain": [
       "<Figure size 864x288 with 1 Axes>"
      ]
     },
     "metadata": {},
     "output_type": "display_data"
    }
   ],
   "source": [
    "# plot proportion of up votes posted per day\n",
    "\n",
    "sns.lineplot(x=df.index, y=df['up_votes'].cumsum())\n",
    "\n",
    "plt.xlabel('Time Created', fontsize=15)\n",
    "plt.ylabel('Proportion of Up Votes', fontsize=15)\n",
    "\n",
    "plt.title('Daily Proportion of Up Votes', fontsize=18);"
   ]
  },
  {
   "cell_type": "markdown",
   "id": "30544e60",
   "metadata": {},
   "source": [
    "Finally, I will show some monthly moving window plots.  \n",
    "Both daily and monthly windows will be calculated."
   ]
  },
  {
   "cell_type": "markdown",
   "id": "0321fdca",
   "metadata": {},
   "source": [
    "First, I'll observe the average number of up votes."
   ]
  },
  {
   "cell_type": "code",
   "execution_count": 39,
   "id": "958d5197",
   "metadata": {},
   "outputs": [
    {
     "data": {
      "image/png": "[encoded data removed]",
      "text/plain": [
       "<Figure size 864x288 with 1 Axes>"
      ]
     },
     "metadata": {},
     "output_type": "display_data"
    }
   ],
   "source": [
    "# plot average daily number of up votes vs daily averages with monthly rolling window\n",
    "\n",
    "sns.lineplot(x=df.index, y=df['up_votes'].rolling('d').mean(), \n",
    "             label='Daily Window', color=mp.colors(0))\n",
    "sns.lineplot(x=df.index, y=df['up_votes'].rolling('30d').mean(), \n",
    "             label='Monthly Window', color=mp.colors(5))\n",
    "\n",
    "plt.xlabel('Time Created', fontsize=15)\n",
    "plt.ylabel('Average Up Votes', fontsize=15)\n",
    "\n",
    "plt.legend(loc=2)\n",
    "plt.title('Rolling Windows for Average Article Up Votes', fontsize=18);"
   ]
  },
  {
   "cell_type": "markdown",
   "id": "9f737b51",
   "metadata": {},
   "source": [
    "The daily up vote average shows a steady increase.  \n",
    "Each article is getting more viewers, as the subreddit adds more followers."
   ]
  },
  {
   "cell_type": "markdown",
   "id": "99eaa7b9",
   "metadata": {},
   "source": [
    "Finally, I'll show the total number of up votes."
   ]
  },
  {
   "cell_type": "code",
   "execution_count": 40,
   "id": "4c5fd873",
   "metadata": {},
   "outputs": [
    {
     "data": {
      "image/png": "[encoded data removed]",
      "text/plain": [
       "<Figure size 864x288 with 1 Axes>"
      ]
     },
     "metadata": {},
     "output_type": "display_data"
    }
   ],
   "source": [
    "# plot total daily number of up votes vs daily totals with monthly rolling window\n",
    "\n",
    "sns.lineplot(x=df.index, y=df['up_votes'].rolling('d').sum(), \n",
    "             label='Daily Window', color=mp.colors(0))\n",
    "sns.lineplot(x=df.index, y=df['up_votes'].rolling('30d').sum() / 30, \n",
    "             label='Monthly Window', color=mp.colors(5))\n",
    "\n",
    "plt.xlabel('Time Created', fontsize=15)\n",
    "plt.ylabel('Total Up Votes', fontsize=15)\n",
    "\n",
    "plt.legend(loc=2)\n",
    "plt.title('Rolling Windows for Total Article Up Votes', fontsize=18);"
   ]
  },
  {
   "cell_type": "markdown",
   "id": "18a2cc12",
   "metadata": {},
   "source": [
    "The total daily up votes increase more rapidly than the average daily up votes.  \n",
    "This implies that the number of articles posted doubled faster than the average number of up votes each article received.  \n",
    "Increasing the number of articles is a more effective way of driving up user participation than having more popular articles.  \n",
    "Although, increases to both should be desired."
   ]
  },
  {
   "cell_type": "code",
   "execution_count": null,
   "id": "fce665f9",
   "metadata": {},
   "outputs": [],
   "source": []
  },
  {
   "cell_type": "markdown",
   "id": "6a1ec3a4",
   "metadata": {},
   "source": [
    "> **AUTHOR DATA**"
   ]
  },
  {
   "cell_type": "markdown",
   "id": "6eb83e81",
   "metadata": {},
   "source": [
    "I will create an author focused DataFrame to observe statistics about the authors.  \n",
    "The up votes and over 18 features will be summed, like in the original DataFrame.  \n",
    "The time created feature will be converted into the first and last times that the authors contributed.  \n",
    "The title counts will be calculated for each author, and the text of their titles will be stored in lists."
   ]
  },
  {
   "cell_type": "code",
   "execution_count": 41,
   "id": "f2073a76",
   "metadata": {},
   "outputs": [],
   "source": [
    "def create_author_df(data):\n",
    "    \"\"\"Returns aggregated author DataFrame with posting time data\"\"\"\n",
    "    gb = data.reset_index().groupby('author')\n",
    "    df = gb.agg(\n",
    "        up_votes=('up_votes', np.sum), \n",
    "        over_18=('over_18', np.sum), \n",
    "        first_post=('time_created', np.min), \n",
    "        last_post=('time_created', np.max), \n",
    "        most_active_day=('day', lambda x: x.value_counts().index[0]), \n",
    "        num_posts=('up_votes', 'count'))\n",
    "    df.loc[:, 'titles'] = gb['title'].apply(list)\n",
    "    \n",
    "    return df"
   ]
  },
  {
   "cell_type": "code",
   "execution_count": 42,
   "id": "134b86c1",
   "metadata": {},
   "outputs": [
    {
     "data": {
      "text/html": [
       "<div>\n",
       "<style scoped>\n",
       "    .dataframe tbody tr th:only-of-type {\n",
       "        vertical-align: middle;\n",
       "    }\n",
       "\n",
       "    .dataframe tbody tr th {\n",
       "        vertical-align: top;\n",
       "    }\n",
       "\n",
       "    .dataframe thead th {\n",
       "        text-align: right;\n",
       "    }\n",
       "</style>\n",
       "<table border=\"1\" class=\"dataframe\">\n",
       "  <thead>\n",
       "    <tr style=\"text-align: right;\">\n",
       "      <th></th>\n",
       "      <th>up_votes</th>\n",
       "      <th>over_18</th>\n",
       "      <th>first_post</th>\n",
       "      <th>last_post</th>\n",
       "      <th>most_active_day</th>\n",
       "      <th>num_posts</th>\n",
       "      <th>titles</th>\n",
       "    </tr>\n",
       "    <tr>\n",
       "      <th>author</th>\n",
       "      <th></th>\n",
       "      <th></th>\n",
       "      <th></th>\n",
       "      <th></th>\n",
       "      <th></th>\n",
       "      <th></th>\n",
       "      <th></th>\n",
       "    </tr>\n",
       "  </thead>\n",
       "  <tbody>\n",
       "    <tr>\n",
       "      <th>---SB</th>\n",
       "      <td>1.0</td>\n",
       "      <td>0</td>\n",
       "      <td>2013-08-15 04:53:16</td>\n",
       "      <td>2013-08-15 04:53:16</td>\n",
       "      <td>Thursday</td>\n",
       "      <td>1</td>\n",
       "      <td>[BBC News - Former headmaster resigns over For...</td>\n",
       "    </tr>\n",
       "    <tr>\n",
       "      <th>---annon---</th>\n",
       "      <td>0.0</td>\n",
       "      <td>0</td>\n",
       "      <td>2014-05-13 14:20:11</td>\n",
       "      <td>2014-05-13 14:20:11</td>\n",
       "      <td>Tuesday</td>\n",
       "      <td>1</td>\n",
       "      <td>[H.R. Giger, designer of alien from Alien film...</td>\n",
       "    </tr>\n",
       "    <tr>\n",
       "      <th>---sniff---</th>\n",
       "      <td>102.0</td>\n",
       "      <td>0</td>\n",
       "      <td>2009-06-07 20:23:44</td>\n",
       "      <td>2009-08-05 23:40:52</td>\n",
       "      <td>Monday</td>\n",
       "      <td>5</td>\n",
       "      <td>[The wife of Mir Hossein Mousavi, Ahmadinejad’...</td>\n",
       "    </tr>\n",
       "  </tbody>\n",
       "</table>\n",
       "</div>"
      ],
      "text/plain": [
       "             up_votes  over_18          first_post           last_post  \\\n",
       "author                                                                   \n",
       "---SB             1.0        0 2013-08-15 04:53:16 2013-08-15 04:53:16   \n",
       "---annon---       0.0        0 2014-05-13 14:20:11 2014-05-13 14:20:11   \n",
       "---sniff---     102.0        0 2009-06-07 20:23:44 2009-08-05 23:40:52   \n",
       "\n",
       "            most_active_day  num_posts  \\\n",
       "author                                   \n",
       "---SB              Thursday          1   \n",
       "---annon---         Tuesday          1   \n",
       "---sniff---          Monday          5   \n",
       "\n",
       "                                                        titles  \n",
       "author                                                          \n",
       "---SB        [BBC News - Former headmaster resigns over For...  \n",
       "---annon---  [H.R. Giger, designer of alien from Alien film...  \n",
       "---sniff---  [The wife of Mir Hossein Mousavi, Ahmadinejad’...  "
      ]
     },
     "execution_count": 42,
     "metadata": {},
     "output_type": "execute_result"
    }
   ],
   "source": [
    "# generate author DataFrame\n",
    "author_df = create_author_df(df)\n",
    "author_df.head(3)"
   ]
  },
  {
   "cell_type": "markdown",
   "id": "9388304f",
   "metadata": {},
   "source": [
    "First, I want to inspect the posts that were for articles intended for readers over the age of 18."
   ]
  },
  {
   "cell_type": "code",
   "execution_count": 43,
   "id": "49b07d50",
   "metadata": {},
   "outputs": [
    {
     "name": "stdout",
     "output_type": "stream",
     "text": [
      "There are 320 out of 509,236 articles for readers over 18.\n",
      "They account for 0.06% of the articles.\n"
     ]
    }
   ],
   "source": [
    "# count all over 18 articles\n",
    "over_18 = df.loc[df['over_18'] == 1]\n",
    "print(f'There are {over_18.shape[0]} out of {df.shape[0]:,d} articles for readers over 18.\\\n",
    "\\nThey account for {over_18.shape[0] / df.shape[0] * 100:.2f}% of the articles.')"
   ]
  },
  {
   "cell_type": "code",
   "execution_count": 44,
   "id": "c1c410af",
   "metadata": {},
   "outputs": [
    {
     "name": "stdout",
     "output_type": "stream",
     "text": [
      "The author readerseven posted the most over 18 articles.\n",
      "These 6 articles accounted for 0.19% of this author's posts.\n"
     ]
    }
   ],
   "source": [
    "# observe author with most over 18 posts\n",
    "most_over_18_author = author_df.loc[author_df['over_18'] == \n",
    "                                    author_df['over_18'].max()]\n",
    "print(f'The author {most_over_18_author.index[0]} posted the most over 18 articles.\\n\\\n",
    "These {most_over_18_author.over_18[0]} articles accounted for \\\n",
    "{most_over_18_author.over_18[0] / most_over_18_author.num_posts[0] * 100:.2f}\\\n",
    "% of this author\\'s posts.')"
   ]
  },
  {
   "cell_type": "markdown",
   "id": "56245ca1",
   "metadata": {},
   "source": [
    "It seems that there are relatively few articles in this group.  \n",
    "Even the author with the most such posts, had very few."
   ]
  },
  {
   "cell_type": "code",
   "execution_count": 45,
   "id": "124c7ea0",
   "metadata": {},
   "outputs": [
    {
     "data": {
      "text/plain": [
       "up_votes                  float64\n",
       "over_18                     int64\n",
       "first_post         datetime64[ns]\n",
       "last_post          datetime64[ns]\n",
       "most_active_day            object\n",
       "num_posts                   int64\n",
       "titles                     object\n",
       "dtype: object"
      ]
     },
     "execution_count": 45,
     "metadata": {},
     "output_type": "execute_result"
    }
   ],
   "source": [
    "# inspect data types\n",
    "author_df.dtypes"
   ]
  },
  {
   "cell_type": "markdown",
   "id": "a5f370b9",
   "metadata": {},
   "source": [
    "I want to reduce the memory footprint of these numerical columns."
   ]
  },
  {
   "cell_type": "code",
   "execution_count": 46,
   "id": "276ad707",
   "metadata": {},
   "outputs": [
    {
     "name": "stdout",
     "output_type": "stream",
     "text": [
      "Largest values:   up votes => 1,985,416.0   over 18 => 6   num_posts => 8,897\n"
     ]
    }
   ],
   "source": [
    "# get maximum values of numerical data\n",
    "print(f'Largest values:   \\\n",
    "up votes => {author_df.up_votes.max():,}   \\\n",
    "over 18 => {author_df.over_18.max()}   \\\n",
    "num_posts => {author_df.num_posts.max():,}')"
   ]
  },
  {
   "cell_type": "code",
   "execution_count": 47,
   "id": "97a190db",
   "metadata": {},
   "outputs": [
    {
     "data": {
      "text/plain": [
       "(iinfo(min=-128, max=127, dtype=int8),\n",
       " iinfo(min=-32768, max=32767, dtype=int16),\n",
       " iinfo(min=-2147483648, max=2147483647, dtype=int32))"
      ]
     },
     "execution_count": 47,
     "metadata": {},
     "output_type": "execute_result"
    }
   ],
   "source": [
    "# show range of values that can be cast as Numpy 16 bit integer\n",
    "np.iinfo(np.int8), np.iinfo(np.int16), np.iinfo(np.int32)"
   ]
  },
  {
   "cell_type": "code",
   "execution_count": 48,
   "id": "db9d0d5d",
   "metadata": {},
   "outputs": [],
   "source": [
    "# convert numerical columns to smaller Numpy data types\n",
    "author_df['up_votes'] = author_df['up_votes'].astype('int32')\n",
    "author_df['over_18'] = author_df['over_18'].astype('int8')\n",
    "author_df['num_posts'] = author_df['num_posts'].astype('int16')"
   ]
  },
  {
   "cell_type": "markdown",
   "id": "59fd993d",
   "metadata": {},
   "source": [
    "I'm going to make the most active day a categorical data type, as well."
   ]
  },
  {
   "cell_type": "code",
   "execution_count": 49,
   "id": "6544162b",
   "metadata": {},
   "outputs": [],
   "source": [
    "# convert day of the week column to smaller Pandas data type\n",
    "author_df['most_active_day'] = author_df['most_active_day'].astype('category')"
   ]
  },
  {
   "cell_type": "markdown",
   "id": "e24e8f78",
   "metadata": {},
   "source": [
    "Now, I'll compare some statistics of these articles with the set, as a whole."
   ]
  },
  {
   "cell_type": "code",
   "execution_count": 50,
   "id": "ba72c617",
   "metadata": {},
   "outputs": [
    {
     "name": "stdout",
     "output_type": "stream",
     "text": [
      "The average over 18 article received 380 up votes.\n",
      "The average number of up votes across all articles was 112.\n"
     ]
    }
   ],
   "source": [
    "# compare average number of up votes for over 18 articles vs. all articles\n",
    "print(f'The average over 18 article received {over_18.up_votes.mean():.0f} up votes.\\n\\\n",
    "The average number of up votes across all articles was {df.up_votes.mean():.0f}.')"
   ]
  },
  {
   "cell_type": "markdown",
   "id": "95d4b67d",
   "metadata": {},
   "source": [
    "The over 18 articles receive over 3 times the number of up votes, on average."
   ]
  },
  {
   "cell_type": "code",
   "execution_count": 51,
   "id": "08eab1d7",
   "metadata": {},
   "outputs": [
    {
     "name": "stdout",
     "output_type": "stream",
     "text": [
      "Over 18 articles received 0.21% of the upvotes.\n",
      "They comprised only 0.06% of the total number of articles.\n"
     ]
    }
   ],
   "source": [
    "# compare percent of over 18 articles out of all articles\n",
    "\n",
    "print(f'Over 18 articles received {over_18.up_votes.sum() / df.up_votes.sum() * 100:.2f}\\\n",
    "% of the upvotes.\\n\\\n",
    "They comprised only {over_18.shape[0] / df.shape[0] * 100:.2f}\\\n",
    "% of the total number of articles.')"
   ]
  },
  {
   "cell_type": "markdown",
   "id": "860b4146",
   "metadata": {},
   "source": [
    "The up votes for over 18 articles have a stronger relevance than their count would suggest.  \n",
    "I will keep this feature, as it may provide the models with useful information."
   ]
  },
  {
   "cell_type": "markdown",
   "id": "bda82d61",
   "metadata": {},
   "source": [
    "Now, I'll find the authors with the most upvotes."
   ]
  },
  {
   "cell_type": "code",
   "execution_count": 52,
   "id": "e28ee1f0",
   "metadata": {},
   "outputs": [
    {
     "data": {
      "text/html": [
       "<div>\n",
       "<style scoped>\n",
       "    .dataframe tbody tr th:only-of-type {\n",
       "        vertical-align: middle;\n",
       "    }\n",
       "\n",
       "    .dataframe tbody tr th {\n",
       "        vertical-align: top;\n",
       "    }\n",
       "\n",
       "    .dataframe thead th {\n",
       "        text-align: right;\n",
       "    }\n",
       "</style>\n",
       "<table border=\"1\" class=\"dataframe\">\n",
       "  <thead>\n",
       "    <tr style=\"text-align: right;\">\n",
       "      <th></th>\n",
       "      <th>up_votes</th>\n",
       "      <th>over_18</th>\n",
       "      <th>first_post</th>\n",
       "      <th>last_post</th>\n",
       "      <th>most_active_day</th>\n",
       "      <th>num_posts</th>\n",
       "      <th>titles</th>\n",
       "    </tr>\n",
       "    <tr>\n",
       "      <th>author</th>\n",
       "      <th></th>\n",
       "      <th></th>\n",
       "      <th></th>\n",
       "      <th></th>\n",
       "      <th></th>\n",
       "      <th></th>\n",
       "      <th></th>\n",
       "    </tr>\n",
       "  </thead>\n",
       "  <tbody>\n",
       "    <tr>\n",
       "      <th>navysealassulter</th>\n",
       "      <td>12333</td>\n",
       "      <td>0</td>\n",
       "      <td>2015-08-23 22:09:28</td>\n",
       "      <td>2015-08-23 22:09:28</td>\n",
       "      <td>Sunday</td>\n",
       "      <td>1</td>\n",
       "      <td>[The police officer who leaked the footage of ...</td>\n",
       "    </tr>\n",
       "    <tr>\n",
       "      <th>seapiglet</th>\n",
       "      <td>11288</td>\n",
       "      <td>0</td>\n",
       "      <td>2015-08-18 23:06:08</td>\n",
       "      <td>2015-08-18 23:06:08</td>\n",
       "      <td>Tuesday</td>\n",
       "      <td>1</td>\n",
       "      <td>[Paris shooting survivor suing French media fo...</td>\n",
       "    </tr>\n",
       "    <tr>\n",
       "      <th>DawgsOnTopUGA</th>\n",
       "      <td>10515</td>\n",
       "      <td>0</td>\n",
       "      <td>2015-08-20 00:30:33</td>\n",
       "      <td>2015-08-20 00:30:33</td>\n",
       "      <td>Thursday</td>\n",
       "      <td>1</td>\n",
       "      <td>[ISIS beheads 81-year-old pioneer archaeologis...</td>\n",
       "    </tr>\n",
       "    <tr>\n",
       "      <th>Flamo_the_Idiot_Boy</th>\n",
       "      <td>10289</td>\n",
       "      <td>0</td>\n",
       "      <td>2016-05-31 06:31:42</td>\n",
       "      <td>2016-05-31 06:31:42</td>\n",
       "      <td>Tuesday</td>\n",
       "      <td>1</td>\n",
       "      <td>[Every reference to the Great Barrier Reef rem...</td>\n",
       "    </tr>\n",
       "    <tr>\n",
       "      <th>haunted_cheesecake</th>\n",
       "      <td>9408</td>\n",
       "      <td>0</td>\n",
       "      <td>2015-08-12 18:11:47</td>\n",
       "      <td>2015-08-12 18:11:47</td>\n",
       "      <td>Wednesday</td>\n",
       "      <td>1</td>\n",
       "      <td>[Huge explosion reported in Chinese port city ...</td>\n",
       "    </tr>\n",
       "    <tr>\n",
       "      <th>bendertheoffender22</th>\n",
       "      <td>8781</td>\n",
       "      <td>0</td>\n",
       "      <td>2015-03-13 10:30:55</td>\n",
       "      <td>2015-03-13 10:30:55</td>\n",
       "      <td>Friday</td>\n",
       "      <td>1</td>\n",
       "      <td>[German anti-vaccer wagers € 100,000 to anyone...</td>\n",
       "    </tr>\n",
       "    <tr>\n",
       "      <th>crippledrejex</th>\n",
       "      <td>8601</td>\n",
       "      <td>0</td>\n",
       "      <td>2015-08-18 14:02:49</td>\n",
       "      <td>2015-08-18 14:02:49</td>\n",
       "      <td>Tuesday</td>\n",
       "      <td>1</td>\n",
       "      <td>[Afghan military interpreter who served with B...</td>\n",
       "    </tr>\n",
       "    <tr>\n",
       "      <th>FlandersNed</th>\n",
       "      <td>8446</td>\n",
       "      <td>0</td>\n",
       "      <td>2016-10-29 03:43:42</td>\n",
       "      <td>2016-10-29 03:43:42</td>\n",
       "      <td>Saturday</td>\n",
       "      <td>1</td>\n",
       "      <td>[The South Korean President has been under the...</td>\n",
       "    </tr>\n",
       "  </tbody>\n",
       "</table>\n",
       "</div>"
      ],
      "text/plain": [
       "                     up_votes  over_18          first_post  \\\n",
       "author                                                       \n",
       "navysealassulter        12333        0 2015-08-23 22:09:28   \n",
       "seapiglet               11288        0 2015-08-18 23:06:08   \n",
       "DawgsOnTopUGA           10515        0 2015-08-20 00:30:33   \n",
       "Flamo_the_Idiot_Boy     10289        0 2016-05-31 06:31:42   \n",
       "haunted_cheesecake       9408        0 2015-08-12 18:11:47   \n",
       "bendertheoffender22      8781        0 2015-03-13 10:30:55   \n",
       "crippledrejex            8601        0 2015-08-18 14:02:49   \n",
       "FlandersNed              8446        0 2016-10-29 03:43:42   \n",
       "\n",
       "                              last_post most_active_day  num_posts  \\\n",
       "author                                                               \n",
       "navysealassulter    2015-08-23 22:09:28          Sunday          1   \n",
       "seapiglet           2015-08-18 23:06:08         Tuesday          1   \n",
       "DawgsOnTopUGA       2015-08-20 00:30:33        Thursday          1   \n",
       "Flamo_the_Idiot_Boy 2016-05-31 06:31:42         Tuesday          1   \n",
       "haunted_cheesecake  2015-08-12 18:11:47       Wednesday          1   \n",
       "bendertheoffender22 2015-03-13 10:30:55          Friday          1   \n",
       "crippledrejex       2015-08-18 14:02:49         Tuesday          1   \n",
       "FlandersNed         2016-10-29 03:43:42        Saturday          1   \n",
       "\n",
       "                                                                titles  \n",
       "author                                                                  \n",
       "navysealassulter     [The police officer who leaked the footage of ...  \n",
       "seapiglet            [Paris shooting survivor suing French media fo...  \n",
       "DawgsOnTopUGA        [ISIS beheads 81-year-old pioneer archaeologis...  \n",
       "Flamo_the_Idiot_Boy  [Every reference to the Great Barrier Reef rem...  \n",
       "haunted_cheesecake   [Huge explosion reported in Chinese port city ...  \n",
       "bendertheoffender22  [German anti-vaccer wagers € 100,000 to anyone...  \n",
       "crippledrejex        [Afghan military interpreter who served with B...  \n",
       "FlandersNed          [The South Korean President has been under the...  "
      ]
     },
     "execution_count": 52,
     "metadata": {},
     "output_type": "execute_result"
    }
   ],
   "source": [
    "# observe top 8 authors with highest average up vote\n",
    "author_df.loc[(author_df['up_votes'] / author_df['num_posts']).nlargest(8).index]"
   ]
  },
  {
   "cell_type": "markdown",
   "id": "79aa89db",
   "metadata": {},
   "source": [
    "These authors received all their votes through single postings.  \n",
    "I want to know the influence that single article posters have on the dataset.  \n",
    "I'll find out the percentage of authors who posted a single title."
   ]
  },
  {
   "cell_type": "code",
   "execution_count": 53,
   "id": "02618740",
   "metadata": {},
   "outputs": [
    {
     "name": "stdout",
     "output_type": "stream",
     "text": [
      "63.65% of authors posted only one title.\n"
     ]
    }
   ],
   "source": [
    "# get percent of authors who posted just one time\n",
    "single_poster = author_df['num_posts'] == 1\n",
    "num_single_poster = author_df.loc[single_poster].shape[0]\n",
    "print(f'{num_single_poster / author_df.shape[0] * 100:.2f}% of authors \\\n",
    "posted only one title.')"
   ]
  },
  {
   "cell_type": "code",
   "execution_count": 54,
   "id": "5fb2a462",
   "metadata": {},
   "outputs": [
    {
     "name": "stdout",
     "output_type": "stream",
     "text": [
      "10.73% of all articles were posted by authors with just one posting.\n"
     ]
    }
   ],
   "source": [
    "# get percent of titles comprising one time posters\n",
    "num_posts = author_df['num_posts'].sum()\n",
    "print(f'{num_single_poster / num_posts * 100:.2f}% of all articles \\\n",
    "were posted by authors with just one posting.')"
   ]
  },
  {
   "cell_type": "markdown",
   "id": "ae4f9824",
   "metadata": {},
   "source": [
    "A majority of the authors are not repeat contributors, but their articles make up a small fraction of all the postings.  \n",
    "I believe that authors with numerous postings and higher than average up votes are significant subreddit contributors."
   ]
  },
  {
   "cell_type": "markdown",
   "id": "a28efa4c",
   "metadata": {},
   "source": [
    "I will sort the author DataFrame by the top up voted authors."
   ]
  },
  {
   "cell_type": "code",
   "execution_count": 55,
   "id": "5e3cd9e4",
   "metadata": {},
   "outputs": [
    {
     "data": {
      "text/html": [
       "<div>\n",
       "<style scoped>\n",
       "    .dataframe tbody tr th:only-of-type {\n",
       "        vertical-align: middle;\n",
       "    }\n",
       "\n",
       "    .dataframe tbody tr th {\n",
       "        vertical-align: top;\n",
       "    }\n",
       "\n",
       "    .dataframe thead th {\n",
       "        text-align: right;\n",
       "    }\n",
       "</style>\n",
       "<table border=\"1\" class=\"dataframe\">\n",
       "  <thead>\n",
       "    <tr style=\"text-align: right;\">\n",
       "      <th></th>\n",
       "      <th>up_votes</th>\n",
       "      <th>over_18</th>\n",
       "      <th>first_post</th>\n",
       "      <th>last_post</th>\n",
       "      <th>most_active_day</th>\n",
       "      <th>num_posts</th>\n",
       "      <th>titles</th>\n",
       "    </tr>\n",
       "    <tr>\n",
       "      <th>author</th>\n",
       "      <th></th>\n",
       "      <th></th>\n",
       "      <th></th>\n",
       "      <th></th>\n",
       "      <th></th>\n",
       "      <th></th>\n",
       "      <th></th>\n",
       "    </tr>\n",
       "  </thead>\n",
       "  <tbody>\n",
       "    <tr>\n",
       "      <th>maxwellhill</th>\n",
       "      <td>1985416</td>\n",
       "      <td>0</td>\n",
       "      <td>2008-03-18 07:09:38</td>\n",
       "      <td>2016-11-22 01:13:37</td>\n",
       "      <td>Sunday</td>\n",
       "      <td>4023</td>\n",
       "      <td>[Chinese Premier accuses Dalai Lama of masterm...</td>\n",
       "    </tr>\n",
       "    <tr>\n",
       "      <th>anutensil</th>\n",
       "      <td>1531544</td>\n",
       "      <td>0</td>\n",
       "      <td>2009-12-03 20:18:10</td>\n",
       "      <td>2016-11-21 11:23:46</td>\n",
       "      <td>Thursday</td>\n",
       "      <td>5730</td>\n",
       "      <td>[Top 10 discoveries of 2009, Mystery behind wh...</td>\n",
       "    </tr>\n",
       "    <tr>\n",
       "      <th>Libertatea</th>\n",
       "      <td>832102</td>\n",
       "      <td>1</td>\n",
       "      <td>2012-10-22 12:02:43</td>\n",
       "      <td>2016-07-05 13:51:58</td>\n",
       "      <td>Tuesday</td>\n",
       "      <td>2108</td>\n",
       "      <td>[Life inside the Ecuadorian embassy with Wikil...</td>\n",
       "    </tr>\n",
       "    <tr>\n",
       "      <th>DoremusJessup</th>\n",
       "      <td>584380</td>\n",
       "      <td>0</td>\n",
       "      <td>2011-12-21 15:17:44</td>\n",
       "      <td>2016-11-19 01:53:54</td>\n",
       "      <td>Monday</td>\n",
       "      <td>5037</td>\n",
       "      <td>[Human Rights Watch claims $32 billion missing...</td>\n",
       "    </tr>\n",
       "    <tr>\n",
       "      <th>Wagamaga</th>\n",
       "      <td>580121</td>\n",
       "      <td>0</td>\n",
       "      <td>2014-08-06 08:55:55</td>\n",
       "      <td>2016-08-13 21:13:26</td>\n",
       "      <td>Tuesday</td>\n",
       "      <td>1490</td>\n",
       "      <td>[The government wants penalties including pote...</td>\n",
       "    </tr>\n",
       "  </tbody>\n",
       "</table>\n",
       "</div>"
      ],
      "text/plain": [
       "               up_votes  over_18          first_post           last_post  \\\n",
       "author                                                                     \n",
       "maxwellhill     1985416        0 2008-03-18 07:09:38 2016-11-22 01:13:37   \n",
       "anutensil       1531544        0 2009-12-03 20:18:10 2016-11-21 11:23:46   \n",
       "Libertatea       832102        1 2012-10-22 12:02:43 2016-07-05 13:51:58   \n",
       "DoremusJessup    584380        0 2011-12-21 15:17:44 2016-11-19 01:53:54   \n",
       "Wagamaga         580121        0 2014-08-06 08:55:55 2016-08-13 21:13:26   \n",
       "\n",
       "              most_active_day  num_posts  \\\n",
       "author                                     \n",
       "maxwellhill            Sunday       4023   \n",
       "anutensil            Thursday       5730   \n",
       "Libertatea            Tuesday       2108   \n",
       "DoremusJessup          Monday       5037   \n",
       "Wagamaga              Tuesday       1490   \n",
       "\n",
       "                                                          titles  \n",
       "author                                                            \n",
       "maxwellhill    [Chinese Premier accuses Dalai Lama of masterm...  \n",
       "anutensil      [Top 10 discoveries of 2009, Mystery behind wh...  \n",
       "Libertatea     [Life inside the Ecuadorian embassy with Wikil...  \n",
       "DoremusJessup  [Human Rights Watch claims $32 billion missing...  \n",
       "Wagamaga       [The government wants penalties including pote...  "
      ]
     },
     "execution_count": 55,
     "metadata": {},
     "output_type": "execute_result"
    }
   ],
   "source": [
    "# sort DataFrame of authors by total up votes\n",
    "author_df.sort_values(['up_votes'], ascending=False, inplace=True)\n",
    "author_df.head()"
   ]
  },
  {
   "cell_type": "markdown",
   "id": "fdd26d62",
   "metadata": {},
   "source": [
    "I'll observe the form the titles take in this DataFrame."
   ]
  },
  {
   "cell_type": "code",
   "execution_count": 56,
   "id": "84c86e5c",
   "metadata": {},
   "outputs": [
    {
     "data": {
      "text/plain": [
       "['Chinese Premier accuses Dalai Lama of masterminding recent violence in Tibet',\n",
       " 'China warns of  life and death struggle  over Tibet ',\n",
       " ' I am worried. China is so big. Tibetans are so few. We cannot possibly win. No good can come of this for Tibetans. ',\n",
       " 'Italian judge clears way for trial in absentia against 26 CIA agents ',\n",
       " 'In 1968, fury at the Vietnam war sparked protests and uprisings across the world: from Paris and Prague to Mexico. Where has all the rage gone?',\n",
       " 'The woman who nearly stopped the Iraq war',\n",
       " 'Web host suspends site planned for anti-Koran film ',\n",
       " 'Britain s GCHQ spy agency confirms violent riots in Tibet staged by Chinese PLA agents posing as monks',\n",
       " 'German chancellor Merkel to boycott Olympic ceremony ',\n",
       " 'Venezuela sends to China all the oil it previously shipped to U.S. refinery jointly owned with Exxon Mobil']"
      ]
     },
     "execution_count": 56,
     "metadata": {},
     "output_type": "execute_result"
    }
   ],
   "source": [
    "# grab titles of first 10 articles posted by top author\n",
    "author_df.loc['maxwellhill']['titles'][:10]"
   ]
  },
  {
   "cell_type": "markdown",
   "id": "aa614ee0",
   "metadata": {},
   "source": [
    "This will be useful for NLP analysis by author."
   ]
  },
  {
   "cell_type": "markdown",
   "id": "7d0858b9",
   "metadata": {},
   "source": [
    "Now, I'll observe the up vote distribution across the authors."
   ]
  },
  {
   "cell_type": "code",
   "execution_count": 57,
   "id": "8ee5210c",
   "metadata": {},
   "outputs": [
    {
     "data": {
      "image/png": "[encoded data removed]",
      "text/plain": [
       "<Figure size 864x288 with 1 Axes>"
      ]
     },
     "metadata": {},
     "output_type": "display_data"
    }
   ],
   "source": [
    "# plot upvotes by all authors\n",
    "\n",
    "sns.lineplot(data=author_df, \n",
    "            x=range(len(author_df.index)), \n",
    "            y='up_votes')\n",
    "\n",
    "plt.xlabel('Authors (Numbered)', fontsize=15)\n",
    "plt.ylabel('Author Up Votes', fontsize=15)\n",
    "\n",
    "plt.title('Up Vote Distribution By Author', fontsize=18);"
   ]
  },
  {
   "cell_type": "markdown",
   "id": "dd2daaaa",
   "metadata": {},
   "source": [
    "The distribution is dominated by the authors with very low up vote totals.  \n",
    "I'll observe closer, through the percentile distibution of the up votes."
   ]
  },
  {
   "cell_type": "code",
   "execution_count": 58,
   "id": "7dc6df76",
   "metadata": {},
   "outputs": [
    {
     "data": {
      "text/html": [
       "<div>\n",
       "<style scoped>\n",
       "    .dataframe tbody tr th:only-of-type {\n",
       "        vertical-align: middle;\n",
       "    }\n",
       "\n",
       "    .dataframe tbody tr th {\n",
       "        vertical-align: top;\n",
       "    }\n",
       "\n",
       "    .dataframe thead th {\n",
       "        text-align: right;\n",
       "    }\n",
       "</style>\n",
       "<table border=\"1\" class=\"dataframe\">\n",
       "  <thead>\n",
       "    <tr style=\"text-align: right;\">\n",
       "      <th></th>\n",
       "      <th>min</th>\n",
       "      <th>10%</th>\n",
       "      <th>20%</th>\n",
       "      <th>30%</th>\n",
       "      <th>40%</th>\n",
       "      <th>50%</th>\n",
       "      <th>60%</th>\n",
       "      <th>70%</th>\n",
       "      <th>80%</th>\n",
       "      <th>90%</th>\n",
       "      <th>max</th>\n",
       "    </tr>\n",
       "  </thead>\n",
       "  <tbody>\n",
       "    <tr>\n",
       "      <th>up_votes</th>\n",
       "      <td>0.0</td>\n",
       "      <td>0.0</td>\n",
       "      <td>1.0</td>\n",
       "      <td>3.0</td>\n",
       "      <td>5.0</td>\n",
       "      <td>9.0</td>\n",
       "      <td>16.0</td>\n",
       "      <td>36.0</td>\n",
       "      <td>123.0</td>\n",
       "      <td>789.0</td>\n",
       "      <td>1985416.0</td>\n",
       "    </tr>\n",
       "  </tbody>\n",
       "</table>\n",
       "</div>"
      ],
      "text/plain": [
       "          min  10%  20%  30%  40%  50%   60%   70%    80%    90%        max\n",
       "up_votes  0.0  0.0  1.0  3.0  5.0  9.0  16.0  36.0  123.0  789.0  1985416.0"
      ]
     },
     "execution_count": 58,
     "metadata": {},
     "output_type": "execute_result"
    }
   ],
   "source": [
    "# show percentile distribution of up votes by author\n",
    "author_df['up_votes'].describe(\n",
    "    percentiles=np.array(range(1, 11)) / 10).drop(\n",
    "    ['mean', 'count', 'std', '100%']).to_frame().T"
   ]
  },
  {
   "cell_type": "markdown",
   "id": "8809574c",
   "metadata": {},
   "source": [
    "Since the distribution is top heavy, I'll leave off the last 10% during visualization."
   ]
  },
  {
   "cell_type": "code",
   "execution_count": 59,
   "id": "005297bd",
   "metadata": {},
   "outputs": [
    {
     "data": {
      "text/html": [
       "<div>\n",
       "<style scoped>\n",
       "    .dataframe tbody tr th:only-of-type {\n",
       "        vertical-align: middle;\n",
       "    }\n",
       "\n",
       "    .dataframe tbody tr th {\n",
       "        vertical-align: top;\n",
       "    }\n",
       "\n",
       "    .dataframe thead th {\n",
       "        text-align: right;\n",
       "    }\n",
       "</style>\n",
       "<table border=\"1\" class=\"dataframe\">\n",
       "  <thead>\n",
       "    <tr style=\"text-align: right;\">\n",
       "      <th></th>\n",
       "      <th>min</th>\n",
       "      <th>10%</th>\n",
       "      <th>20%</th>\n",
       "      <th>30%</th>\n",
       "      <th>40%</th>\n",
       "      <th>50%</th>\n",
       "      <th>60%</th>\n",
       "      <th>70%</th>\n",
       "      <th>80%</th>\n",
       "      <th>90%</th>\n",
       "    </tr>\n",
       "  </thead>\n",
       "  <tbody>\n",
       "    <tr>\n",
       "      <th>up_votes</th>\n",
       "      <td>0.0</td>\n",
       "      <td>0.0</td>\n",
       "      <td>1.0</td>\n",
       "      <td>3.0</td>\n",
       "      <td>5.0</td>\n",
       "      <td>9.0</td>\n",
       "      <td>16.0</td>\n",
       "      <td>36.0</td>\n",
       "      <td>123.0</td>\n",
       "      <td>789.0</td>\n",
       "    </tr>\n",
       "  </tbody>\n",
       "</table>\n",
       "</div>"
      ],
      "text/plain": [
       "          min  10%  20%  30%  40%  50%   60%   70%    80%    90%\n",
       "up_votes  0.0  0.0  1.0  3.0  5.0  9.0  16.0  36.0  123.0  789.0"
      ]
     },
     "execution_count": 59,
     "metadata": {},
     "output_type": "execute_result"
    }
   ],
   "source": [
    "percent_up_vote_df = author_df['up_votes'].describe(\n",
    "    percentiles=np.array(range(1, 11)) / 10).drop(\n",
    "    ['mean', 'count', 'std', '100%', 'max']).to_frame()\n",
    "percent_up_vote_df.T"
   ]
  },
  {
   "cell_type": "code",
   "execution_count": 60,
   "id": "0df056e2",
   "metadata": {},
   "outputs": [
    {
     "data": {
      "image/png": "[encoded data removed]",
      "text/plain": [
       "<Figure size 864x288 with 1 Axes>"
      ]
     },
     "metadata": {},
     "output_type": "display_data"
    }
   ],
   "source": [
    "# plot percentiles of up votes\n",
    "\n",
    "colors = [mp.colors(2), mp.colors(3), mp.colors(0)]\n",
    "lines = [Line2D([0], [0], color=c, linewidth=3, linestyle='-') for c in colors]\n",
    "labels = ['Mean', 'Median', 'Author Up Votes']\n",
    "\n",
    "plt.hlines(author_df['up_votes'].mean(), 0, 10, color=colors[0])\n",
    "plt.hlines(author_df['up_votes'].median(), 0, 10, color=colors[1])\n",
    "\n",
    "sns.lineplot(data=percent_up_vote_df, \n",
    "             x=percent_up_vote_df.index, \n",
    "             y=percent_up_vote_df['up_votes'], \n",
    "             color=colors[2])\n",
    "\n",
    "plt.xlabel('Percent of Authors', fontsize=15)\n",
    "plt.ylabel('Author Up Votes', fontsize=15)\n",
    "\n",
    "plt.legend(lines, labels, loc=6)\n",
    "plt.title('Up Vote Percentile Distribution', fontsize=18);"
   ]
  },
  {
   "cell_type": "markdown",
   "id": "718635e9",
   "metadata": {},
   "source": [
    "It is clear that titles from only a handful of authors contribute to a large portion of the up votes.  \n",
    "I'll break the authors up into the top and bottom 25% of those contributing to all up votes.  \n",
    "The authors in the middle 50% will comprise the third group."
   ]
  },
  {
   "cell_type": "markdown",
   "id": "39c0b4c1",
   "metadata": {},
   "source": [
    "I'll compute the running total of up votes, going from the least to the most up voted authors."
   ]
  },
  {
   "cell_type": "code",
   "execution_count": 61,
   "id": "88525b8a",
   "metadata": {},
   "outputs": [
    {
     "data": {
      "text/plain": [
       "author\n",
       "maxwellhill        57154756\n",
       "anutensil          55169340\n",
       "Libertatea         53637796\n",
       "DoremusJessup      52805694\n",
       "Wagamaga           52221314\n",
       "NinjaDiscoJesus    51641193\n",
       "madazzahatter      51148611\n",
       "madam1             50719645\n",
       "Name: up_votes, dtype: int64"
      ]
     },
     "execution_count": 61,
     "metadata": {},
     "output_type": "execute_result"
    }
   ],
   "source": [
    "# get running total of up votes sorted by top author\n",
    "running_up_votes = author_df['up_votes'][::-1].cumsum()[::-1]\n",
    "running_up_votes.head(8)"
   ]
  },
  {
   "cell_type": "code",
   "execution_count": 62,
   "id": "f8e42a29",
   "metadata": {},
   "outputs": [
    {
     "name": "stdout",
     "output_type": "stream",
     "text": [
      "The top 60 authors contributed to 25% of the upvotes.\n"
     ]
    }
   ],
   "source": [
    "# get top most up voted authors who accounted for 25% of all up votes\n",
    "top_author_idx = running_up_votes.loc[\n",
    "    running_up_votes > author_df['up_votes'].sum() * 0.75].index\n",
    "print(f'The top {len(top_author_idx)} authors contributed to 25% of the upvotes.')"
   ]
  },
  {
   "cell_type": "code",
   "execution_count": 63,
   "id": "851bf49d",
   "metadata": {},
   "outputs": [
    {
     "name": "stdout",
     "output_type": "stream",
     "text": [
      "The bottom 82,785 authors contributed to 25% of the upvotes.\n"
     ]
    }
   ],
   "source": [
    "# get least most up voted authors who accounted for 25% of all up votes\n",
    "bottom_author_idx = running_up_votes.loc[\n",
    "    running_up_votes < author_df['up_votes'].sum() * 0.25].index\n",
    "print(f'The bottom {len(bottom_author_idx):,} authors contributed to 25% of the upvotes.')"
   ]
  },
  {
   "cell_type": "code",
   "execution_count": 64,
   "id": "3cd3e84a",
   "metadata": {},
   "outputs": [
    {
     "name": "stdout",
     "output_type": "stream",
     "text": [
      "The middle 2,993 authors contributed to 50% of the upvotes.\n"
     ]
    }
   ],
   "source": [
    "# get middle up voted authors who accounted for 50% of all up votes\n",
    "middle_author_idx = author_df.index.drop(top_author_idx.append(bottom_author_idx))\n",
    "print(f'The middle {len(middle_author_idx):,} authors contributed to 50% of the upvotes.')"
   ]
  },
  {
   "cell_type": "markdown",
   "id": "266b4d90",
   "metadata": {},
   "source": [
    "This shows that the click-through rate is heavily influenced by relatively few authors.  \n",
    "I'll plot the three groups, separately."
   ]
  },
  {
   "cell_type": "code",
   "execution_count": 65,
   "id": "8ca3c3f7",
   "metadata": {},
   "outputs": [
    {
     "data": {
      "image/png": "[encoded data removed]",
      "text/plain": [
       "<Figure size 864x288 with 1 Axes>"
      ]
     },
     "metadata": {},
     "output_type": "display_data"
    }
   ],
   "source": [
    "# plot top authors\n",
    "\n",
    "first_author = 1\n",
    "last_author = len(top_author_idx)\n",
    "sns.lineplot(data=author_df[first_author - 1:last_author], \n",
    "             x=range(first_author, last_author + 1), \n",
    "             y='up_votes')\n",
    "\n",
    "plt.xlabel('Authors (Numbered)', fontsize=15)\n",
    "plt.ylabel('Author Up Votes', fontsize=15)\n",
    "\n",
    "plt.title('Top Authors', fontsize=18);"
   ]
  },
  {
   "cell_type": "code",
   "execution_count": 66,
   "id": "73a501c9",
   "metadata": {},
   "outputs": [
    {
     "data": {
      "image/png": "[encoded data removed]",
      "text/plain": [
       "<Figure size 864x288 with 1 Axes>"
      ]
     },
     "metadata": {},
     "output_type": "display_data"
    }
   ],
   "source": [
    "# plot middle authors\n",
    "\n",
    "first_author = len(top_author_idx) + 1\n",
    "last_author = len(middle_author_idx) + len(top_author_idx)\n",
    "sns.lineplot(data=author_df[first_author - 1:last_author], \n",
    "             x=range(first_author, last_author + 1), \n",
    "             y='up_votes')\n",
    "\n",
    "plt.xlabel('Authors (Numbered)', fontsize=15)\n",
    "plt.ylabel('Author Up Votes', fontsize=15)\n",
    "\n",
    "plt.title('Middle Authors', fontsize=18);"
   ]
  },
  {
   "cell_type": "code",
   "execution_count": 67,
   "id": "d3fa29ac",
   "metadata": {},
   "outputs": [
    {
     "data": {
      "image/png": "[encoded data removed]",
      "text/plain": [
       "<Figure size 864x288 with 1 Axes>"
      ]
     },
     "metadata": {},
     "output_type": "display_data"
    }
   ],
   "source": [
    "# plot bottom authors\n",
    "\n",
    "first_author = len(middle_author_idx) + len(top_author_idx) + 1\n",
    "last_author = len(author_df.index)\n",
    "sns.lineplot(data=author_df[first_author - 1:last_author], \n",
    "             x=range(first_author, last_author + 1), \n",
    "             y='up_votes')\n",
    "\n",
    "plt.xlabel('Authors (Numbered)', fontsize=15)\n",
    "plt.ylabel('Author Up Votes', fontsize=15)\n",
    "\n",
    "plt.title('Bottom Authors', fontsize=18);"
   ]
  },
  {
   "cell_type": "markdown",
   "id": "a464fe55",
   "metadata": {},
   "source": [
    "Now that I have the authors divided into 3 groups, I'll assign them to categorical values.  \n",
    "This categorical label can be used as a target for prediction.  \n",
    "It will be useful to train a model to predict which authors have the best chance of receiving of up votes."
   ]
  },
  {
   "cell_type": "code",
   "execution_count": 68,
   "id": "926df620",
   "metadata": {},
   "outputs": [
    {
     "data": {
      "text/html": [
       "<div>\n",
       "<style scoped>\n",
       "    .dataframe tbody tr th:only-of-type {\n",
       "        vertical-align: middle;\n",
       "    }\n",
       "\n",
       "    .dataframe tbody tr th {\n",
       "        vertical-align: top;\n",
       "    }\n",
       "\n",
       "    .dataframe thead th {\n",
       "        text-align: right;\n",
       "    }\n",
       "</style>\n",
       "<table border=\"1\" class=\"dataframe\">\n",
       "  <thead>\n",
       "    <tr style=\"text-align: right;\">\n",
       "      <th></th>\n",
       "      <th>up_votes</th>\n",
       "      <th>over_18</th>\n",
       "      <th>first_post</th>\n",
       "      <th>last_post</th>\n",
       "      <th>most_active_day</th>\n",
       "      <th>num_posts</th>\n",
       "      <th>titles</th>\n",
       "      <th>rank</th>\n",
       "    </tr>\n",
       "    <tr>\n",
       "      <th>author</th>\n",
       "      <th></th>\n",
       "      <th></th>\n",
       "      <th></th>\n",
       "      <th></th>\n",
       "      <th></th>\n",
       "      <th></th>\n",
       "      <th></th>\n",
       "      <th></th>\n",
       "    </tr>\n",
       "  </thead>\n",
       "  <tbody>\n",
       "    <tr>\n",
       "      <th>maxwellhill</th>\n",
       "      <td>1985416</td>\n",
       "      <td>0</td>\n",
       "      <td>2008-03-18 07:09:38</td>\n",
       "      <td>2016-11-22 01:13:37</td>\n",
       "      <td>Sunday</td>\n",
       "      <td>4023</td>\n",
       "      <td>[Chinese Premier accuses Dalai Lama of masterm...</td>\n",
       "      <td>top</td>\n",
       "    </tr>\n",
       "    <tr>\n",
       "      <th>anutensil</th>\n",
       "      <td>1531544</td>\n",
       "      <td>0</td>\n",
       "      <td>2009-12-03 20:18:10</td>\n",
       "      <td>2016-11-21 11:23:46</td>\n",
       "      <td>Thursday</td>\n",
       "      <td>5730</td>\n",
       "      <td>[Top 10 discoveries of 2009, Mystery behind wh...</td>\n",
       "      <td>top</td>\n",
       "    </tr>\n",
       "    <tr>\n",
       "      <th>Libertatea</th>\n",
       "      <td>832102</td>\n",
       "      <td>1</td>\n",
       "      <td>2012-10-22 12:02:43</td>\n",
       "      <td>2016-07-05 13:51:58</td>\n",
       "      <td>Tuesday</td>\n",
       "      <td>2108</td>\n",
       "      <td>[Life inside the Ecuadorian embassy with Wikil...</td>\n",
       "      <td>top</td>\n",
       "    </tr>\n",
       "    <tr>\n",
       "      <th>DoremusJessup</th>\n",
       "      <td>584380</td>\n",
       "      <td>0</td>\n",
       "      <td>2011-12-21 15:17:44</td>\n",
       "      <td>2016-11-19 01:53:54</td>\n",
       "      <td>Monday</td>\n",
       "      <td>5037</td>\n",
       "      <td>[Human Rights Watch claims $32 billion missing...</td>\n",
       "      <td>top</td>\n",
       "    </tr>\n",
       "    <tr>\n",
       "      <th>Wagamaga</th>\n",
       "      <td>580121</td>\n",
       "      <td>0</td>\n",
       "      <td>2014-08-06 08:55:55</td>\n",
       "      <td>2016-08-13 21:13:26</td>\n",
       "      <td>Tuesday</td>\n",
       "      <td>1490</td>\n",
       "      <td>[The government wants penalties including pote...</td>\n",
       "      <td>top</td>\n",
       "    </tr>\n",
       "    <tr>\n",
       "      <th>...</th>\n",
       "      <td>...</td>\n",
       "      <td>...</td>\n",
       "      <td>...</td>\n",
       "      <td>...</td>\n",
       "      <td>...</td>\n",
       "      <td>...</td>\n",
       "      <td>...</td>\n",
       "      <td>...</td>\n",
       "    </tr>\n",
       "    <tr>\n",
       "      <th>davitruiz</th>\n",
       "      <td>0</td>\n",
       "      <td>0</td>\n",
       "      <td>2013-12-05 17:52:21</td>\n",
       "      <td>2013-12-15 07:19:35</td>\n",
       "      <td>Sunday</td>\n",
       "      <td>2</td>\n",
       "      <td>[Madrid train strike the day before holiday we...</td>\n",
       "      <td>bottom</td>\n",
       "    </tr>\n",
       "    <tr>\n",
       "      <th>davie18</th>\n",
       "      <td>0</td>\n",
       "      <td>0</td>\n",
       "      <td>2012-02-01 18:03:03</td>\n",
       "      <td>2012-02-01 18:03:03</td>\n",
       "      <td>Wednesday</td>\n",
       "      <td>1</td>\n",
       "      <td>[Remember that letter to Sainsbury s where a l...</td>\n",
       "      <td>bottom</td>\n",
       "    </tr>\n",
       "    <tr>\n",
       "      <th>davidstern350</th>\n",
       "      <td>0</td>\n",
       "      <td>0</td>\n",
       "      <td>2013-08-22 08:12:02</td>\n",
       "      <td>2013-08-22 08:12:02</td>\n",
       "      <td>Thursday</td>\n",
       "      <td>1</td>\n",
       "      <td>[UOSSM Urges the International Organizations t...</td>\n",
       "      <td>bottom</td>\n",
       "    </tr>\n",
       "    <tr>\n",
       "      <th>davidmj85</th>\n",
       "      <td>0</td>\n",
       "      <td>0</td>\n",
       "      <td>2013-10-23 00:57:32</td>\n",
       "      <td>2013-10-23 00:57:32</td>\n",
       "      <td>Wednesday</td>\n",
       "      <td>1</td>\n",
       "      <td>[NSW bushfires: live updates October 23]</td>\n",
       "      <td>bottom</td>\n",
       "    </tr>\n",
       "    <tr>\n",
       "      <th>zzzcott</th>\n",
       "      <td>0</td>\n",
       "      <td>0</td>\n",
       "      <td>2012-06-26 19:05:46</td>\n",
       "      <td>2012-06-26 19:05:46</td>\n",
       "      <td>Tuesday</td>\n",
       "      <td>1</td>\n",
       "      <td>[49 Headless corpses found in a pile on the hi...</td>\n",
       "      <td>bottom</td>\n",
       "    </tr>\n",
       "  </tbody>\n",
       "</table>\n",
       "<p>85838 rows × 8 columns</p>\n",
       "</div>"
      ],
      "text/plain": [
       "               up_votes  over_18          first_post           last_post  \\\n",
       "author                                                                     \n",
       "maxwellhill     1985416        0 2008-03-18 07:09:38 2016-11-22 01:13:37   \n",
       "anutensil       1531544        0 2009-12-03 20:18:10 2016-11-21 11:23:46   \n",
       "Libertatea       832102        1 2012-10-22 12:02:43 2016-07-05 13:51:58   \n",
       "DoremusJessup    584380        0 2011-12-21 15:17:44 2016-11-19 01:53:54   \n",
       "Wagamaga         580121        0 2014-08-06 08:55:55 2016-08-13 21:13:26   \n",
       "...                 ...      ...                 ...                 ...   \n",
       "davitruiz             0        0 2013-12-05 17:52:21 2013-12-15 07:19:35   \n",
       "davie18               0        0 2012-02-01 18:03:03 2012-02-01 18:03:03   \n",
       "davidstern350         0        0 2013-08-22 08:12:02 2013-08-22 08:12:02   \n",
       "davidmj85             0        0 2013-10-23 00:57:32 2013-10-23 00:57:32   \n",
       "zzzcott               0        0 2012-06-26 19:05:46 2012-06-26 19:05:46   \n",
       "\n",
       "              most_active_day  num_posts  \\\n",
       "author                                     \n",
       "maxwellhill            Sunday       4023   \n",
       "anutensil            Thursday       5730   \n",
       "Libertatea            Tuesday       2108   \n",
       "DoremusJessup          Monday       5037   \n",
       "Wagamaga              Tuesday       1490   \n",
       "...                       ...        ...   \n",
       "davitruiz              Sunday          2   \n",
       "davie18             Wednesday          1   \n",
       "davidstern350        Thursday          1   \n",
       "davidmj85           Wednesday          1   \n",
       "zzzcott               Tuesday          1   \n",
       "\n",
       "                                                          titles    rank  \n",
       "author                                                                    \n",
       "maxwellhill    [Chinese Premier accuses Dalai Lama of masterm...     top  \n",
       "anutensil      [Top 10 discoveries of 2009, Mystery behind wh...     top  \n",
       "Libertatea     [Life inside the Ecuadorian embassy with Wikil...     top  \n",
       "DoremusJessup  [Human Rights Watch claims $32 billion missing...     top  \n",
       "Wagamaga       [The government wants penalties including pote...     top  \n",
       "...                                                          ...     ...  \n",
       "davitruiz      [Madrid train strike the day before holiday we...  bottom  \n",
       "davie18        [Remember that letter to Sainsbury s where a l...  bottom  \n",
       "davidstern350  [UOSSM Urges the International Organizations t...  bottom  \n",
       "davidmj85               [NSW bushfires: live updates October 23]  bottom  \n",
       "zzzcott        [49 Headless corpses found in a pile on the hi...  bottom  \n",
       "\n",
       "[85838 rows x 8 columns]"
      ]
     },
     "execution_count": 68,
     "metadata": {},
     "output_type": "execute_result"
    }
   ],
   "source": [
    "# create categorical feature to rank the authors by their total up votes\n",
    "idx_lst = [top_author_idx, middle_author_idx, bottom_author_idx]\n",
    "rank_lst = ['top', 'middle', 'bottom']\n",
    "# create new feature\n",
    "author_df = author_df.assign(rank=pd.concat(\n",
    "    [pd.Series(rank, idx) for rank, idx in zip(rank_lst, idx_lst)]))\n",
    "# convert rank feature to categorical\n",
    "author_df['rank'] = author_df['rank'].astype('category')\n",
    "author_df"
   ]
  },
  {
   "cell_type": "markdown",
   "id": "d9bb8377",
   "metadata": {},
   "source": [
    "Since I have the time periods that the authors were active, I'll plot the best 60 authors from each group."
   ]
  },
  {
   "cell_type": "code",
   "execution_count": 69,
   "id": "dc3b56a2",
   "metadata": {},
   "outputs": [
    {
     "data": {
      "image/png": "[encoded data removed]",
      "text/plain": [
       "<Figure size 1080x720 with 3 Axes>"
      ]
     },
     "metadata": {},
     "output_type": "display_data"
    }
   ],
   "source": [
    "# plot 60 authors from each rank with the most up votes\n",
    "\n",
    "fig, axes = plt.subplots(3, 1, figsize=(15, 10))\n",
    "\n",
    "fig.suptitle('Top 60 Authors From Each Rank', size=22, y=0.93)\n",
    "fig.subplots_adjust(hspace=0.3)\n",
    "\n",
    "for author, rank, ax in zip(idx_lst, rank_lst, axes.flatten()):\n",
    "    for idx in range(len(top_author_idx)):\n",
    "        sns.lineplot(x=author_df.loc[author]\n",
    "                     [['first_post', 'last_post']].values[idx], \n",
    "                     y=idx + 1, ax=ax)\n",
    "        ax.yaxis.label.set_size(15)\n",
    "        ax.set(ylabel=rank.capitalize())"
   ]
  },
  {
   "cell_type": "markdown",
   "id": "ab407ff9",
   "metadata": {},
   "source": [
    "The most of top authors with less than 5 years of activity posted in the later years.  \n",
    "A large proportion of middle authors posted for most of the time span of the observations.  \n",
    "Almost all of the bottom authors posted for relatively short period of time."
   ]
  },
  {
   "cell_type": "markdown",
   "id": "790873c0",
   "metadata": {},
   "source": [
    "Now that I'm finished using the two time data features for inspection, I'll convert them to one numerical value.  \n",
    "I'll get the duration of author activity on the subreddit in days."
   ]
  },
  {
   "cell_type": "code",
   "execution_count": 70,
   "id": "f382cead",
   "metadata": {},
   "outputs": [
    {
     "data": {
      "text/html": [
       "<div>\n",
       "<style scoped>\n",
       "    .dataframe tbody tr th:only-of-type {\n",
       "        vertical-align: middle;\n",
       "    }\n",
       "\n",
       "    .dataframe tbody tr th {\n",
       "        vertical-align: top;\n",
       "    }\n",
       "\n",
       "    .dataframe thead th {\n",
       "        text-align: right;\n",
       "    }\n",
       "</style>\n",
       "<table border=\"1\" class=\"dataframe\">\n",
       "  <thead>\n",
       "    <tr style=\"text-align: right;\">\n",
       "      <th></th>\n",
       "      <th>up_votes</th>\n",
       "      <th>over_18</th>\n",
       "      <th>most_active_day</th>\n",
       "      <th>num_posts</th>\n",
       "      <th>rank</th>\n",
       "      <th>days_active</th>\n",
       "      <th>titles</th>\n",
       "    </tr>\n",
       "    <tr>\n",
       "      <th>author</th>\n",
       "      <th></th>\n",
       "      <th></th>\n",
       "      <th></th>\n",
       "      <th></th>\n",
       "      <th></th>\n",
       "      <th></th>\n",
       "      <th></th>\n",
       "    </tr>\n",
       "  </thead>\n",
       "  <tbody>\n",
       "    <tr>\n",
       "      <th>maxwellhill</th>\n",
       "      <td>1985416</td>\n",
       "      <td>0</td>\n",
       "      <td>Sunday</td>\n",
       "      <td>4023</td>\n",
       "      <td>top</td>\n",
       "      <td>3170</td>\n",
       "      <td>[Chinese Premier accuses Dalai Lama of masterm...</td>\n",
       "    </tr>\n",
       "    <tr>\n",
       "      <th>anutensil</th>\n",
       "      <td>1531544</td>\n",
       "      <td>0</td>\n",
       "      <td>Thursday</td>\n",
       "      <td>5730</td>\n",
       "      <td>top</td>\n",
       "      <td>2544</td>\n",
       "      <td>[Top 10 discoveries of 2009, Mystery behind wh...</td>\n",
       "    </tr>\n",
       "    <tr>\n",
       "      <th>Libertatea</th>\n",
       "      <td>832102</td>\n",
       "      <td>1</td>\n",
       "      <td>Tuesday</td>\n",
       "      <td>2108</td>\n",
       "      <td>top</td>\n",
       "      <td>1352</td>\n",
       "      <td>[Life inside the Ecuadorian embassy with Wikil...</td>\n",
       "    </tr>\n",
       "    <tr>\n",
       "      <th>DoremusJessup</th>\n",
       "      <td>584380</td>\n",
       "      <td>0</td>\n",
       "      <td>Monday</td>\n",
       "      <td>5037</td>\n",
       "      <td>top</td>\n",
       "      <td>1794</td>\n",
       "      <td>[Human Rights Watch claims $32 billion missing...</td>\n",
       "    </tr>\n",
       "    <tr>\n",
       "      <th>Wagamaga</th>\n",
       "      <td>580121</td>\n",
       "      <td>0</td>\n",
       "      <td>Tuesday</td>\n",
       "      <td>1490</td>\n",
       "      <td>top</td>\n",
       "      <td>738</td>\n",
       "      <td>[The government wants penalties including pote...</td>\n",
       "    </tr>\n",
       "    <tr>\n",
       "      <th>...</th>\n",
       "      <td>...</td>\n",
       "      <td>...</td>\n",
       "      <td>...</td>\n",
       "      <td>...</td>\n",
       "      <td>...</td>\n",
       "      <td>...</td>\n",
       "      <td>...</td>\n",
       "    </tr>\n",
       "    <tr>\n",
       "      <th>davitruiz</th>\n",
       "      <td>0</td>\n",
       "      <td>0</td>\n",
       "      <td>Sunday</td>\n",
       "      <td>2</td>\n",
       "      <td>bottom</td>\n",
       "      <td>9</td>\n",
       "      <td>[Madrid train strike the day before holiday we...</td>\n",
       "    </tr>\n",
       "    <tr>\n",
       "      <th>davie18</th>\n",
       "      <td>0</td>\n",
       "      <td>0</td>\n",
       "      <td>Wednesday</td>\n",
       "      <td>1</td>\n",
       "      <td>bottom</td>\n",
       "      <td>0</td>\n",
       "      <td>[Remember that letter to Sainsbury s where a l...</td>\n",
       "    </tr>\n",
       "    <tr>\n",
       "      <th>davidstern350</th>\n",
       "      <td>0</td>\n",
       "      <td>0</td>\n",
       "      <td>Thursday</td>\n",
       "      <td>1</td>\n",
       "      <td>bottom</td>\n",
       "      <td>0</td>\n",
       "      <td>[UOSSM Urges the International Organizations t...</td>\n",
       "    </tr>\n",
       "    <tr>\n",
       "      <th>davidmj85</th>\n",
       "      <td>0</td>\n",
       "      <td>0</td>\n",
       "      <td>Wednesday</td>\n",
       "      <td>1</td>\n",
       "      <td>bottom</td>\n",
       "      <td>0</td>\n",
       "      <td>[NSW bushfires: live updates October 23]</td>\n",
       "    </tr>\n",
       "    <tr>\n",
       "      <th>zzzcott</th>\n",
       "      <td>0</td>\n",
       "      <td>0</td>\n",
       "      <td>Tuesday</td>\n",
       "      <td>1</td>\n",
       "      <td>bottom</td>\n",
       "      <td>0</td>\n",
       "      <td>[49 Headless corpses found in a pile on the hi...</td>\n",
       "    </tr>\n",
       "  </tbody>\n",
       "</table>\n",
       "<p>85838 rows × 7 columns</p>\n",
       "</div>"
      ],
      "text/plain": [
       "               up_votes  over_18 most_active_day  num_posts    rank  \\\n",
       "author                                                                \n",
       "maxwellhill     1985416        0          Sunday       4023     top   \n",
       "anutensil       1531544        0        Thursday       5730     top   \n",
       "Libertatea       832102        1         Tuesday       2108     top   \n",
       "DoremusJessup    584380        0          Monday       5037     top   \n",
       "Wagamaga         580121        0         Tuesday       1490     top   \n",
       "...                 ...      ...             ...        ...     ...   \n",
       "davitruiz             0        0          Sunday          2  bottom   \n",
       "davie18               0        0       Wednesday          1  bottom   \n",
       "davidstern350         0        0        Thursday          1  bottom   \n",
       "davidmj85             0        0       Wednesday          1  bottom   \n",
       "zzzcott               0        0         Tuesday          1  bottom   \n",
       "\n",
       "               days_active                                             titles  \n",
       "author                                                                         \n",
       "maxwellhill           3170  [Chinese Premier accuses Dalai Lama of masterm...  \n",
       "anutensil             2544  [Top 10 discoveries of 2009, Mystery behind wh...  \n",
       "Libertatea            1352  [Life inside the Ecuadorian embassy with Wikil...  \n",
       "DoremusJessup         1794  [Human Rights Watch claims $32 billion missing...  \n",
       "Wagamaga               738  [The government wants penalties including pote...  \n",
       "...                    ...                                                ...  \n",
       "davitruiz                9  [Madrid train strike the day before holiday we...  \n",
       "davie18                  0  [Remember that letter to Sainsbury s where a l...  \n",
       "davidstern350            0  [UOSSM Urges the International Organizations t...  \n",
       "davidmj85                0           [NSW bushfires: live updates October 23]  \n",
       "zzzcott                  0  [49 Headless corpses found in a pile on the hi...  \n",
       "\n",
       "[85838 rows x 7 columns]"
      ]
     },
     "execution_count": 70,
     "metadata": {},
     "output_type": "execute_result"
    }
   ],
   "source": [
    "# calculate number of days authors were posting titles\n",
    "author_df['days_active'] = (author_df['last_post'] - \n",
    "                            author_df['first_post']).dt.days.astype('int16')\n",
    "# remove timestamp features\n",
    "author_df.drop(['first_post', 'last_post'], axis=1, inplace=True)\n",
    "# reorder columns to put rank first and titles last\n",
    "author_df = author_df[[author_df.columns[x] for x in [0, 1, 2, 3, 5, 6, 4]]]\n",
    "author_df"
   ]
  },
  {
   "cell_type": "markdown",
   "id": "179ec81e",
   "metadata": {},
   "source": [
    "I will process the text of the article titles in another notebook.  \n",
    "Both datasets are ready for the modeling notebooks.  \n",
    "I will save them, named by their index values."
   ]
  },
  {
   "cell_type": "code",
   "execution_count": 71,
   "id": "2eb49b44",
   "metadata": {},
   "outputs": [],
   "source": [
    "# save both DataFrames to CSV files\n",
    "df.to_csv('../data/time_data.csv')\n",
    "author_df.to_csv('../data/author_data.csv')"
   ]
  },
  {
   "cell_type": "code",
   "execution_count": null,
   "id": "bfd5f072",
   "metadata": {},
   "outputs": [],
   "source": []
  }
 ],
 "metadata": {
  "kernelspec": {
   "display_name": "Python 3",
   "language": "python",
   "name": "python3"
  },
  "language_info": {
   "codemirror_mode": {
    "name": "ipython",
    "version": 3
   },
   "file_extension": ".py",
   "mimetype": "text/x-python",
   "name": "python",
   "nbconvert_exporter": "python",
   "pygments_lexer": "ipython3",
   "version": "3.7.10"
  }
 },
 "nbformat": 4,
 "nbformat_minor": 5
}
